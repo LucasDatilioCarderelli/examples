{
 "cells": [
  {
   "cell_type": "markdown",
   "metadata": {},
   "source": [
    "# First Program: guess passwaord.\n",
    "\n",
    "- Based in boobk: Genetic Algorithms with Python, Clinton Sheppard (2018).\n"
   ]
  },
  {
   "cell_type": "code",
   "execution_count": null,
   "metadata": {},
   "outputs": [],
   "source": [
    "import random\n",
    "import datetime"
   ]
  },
  {
   "cell_type": "code",
   "execution_count": null,
   "metadata": {},
   "outputs": [],
   "source": [
    "geneSet = \" abcdefghijklmnopqrstuvwxyzABCDEFGHIJKLMNOPQRSTUVWXYZ!.\"\n",
    "target = \"Hello World!\"\n",
    "sizeTarget = len(target)"
   ]
  },
  {
   "cell_type": "code",
   "execution_count": null,
   "metadata": {},
   "outputs": [],
   "source": [
    "\n",
    "def generate_parent(length):\n",
    "    genes = []\n",
    "    while len(genes) < length:\n",
    "        sampleSize = min(length - len(genes), len(geneSet))\n",
    "        genes.extend(random.sample(geneSet, sampleSize))\n",
    "    return \"\".join(genes)\n",
    "\n",
    "\n",
    "def get_fitness(guess):\n",
    "    return sum(1 for expected, actual in zip(target, guess)\n",
    "        if expected == actual)\n",
    "\n"
   ]
  },
  {
   "cell_type": "code",
   "execution_count": null,
   "metadata": {},
   "outputs": [],
   "source": [
    "guess = generate_parent(sizeTarget)\n",
    "print(\"Target: \"+target)\n",
    "print(\"Guess: \"+guess)\n",
    "print(\"How many matchs: {}\".format(sum(1 for expected, actual in zip(target, guess) if expected == actual)))"
   ]
  },
  {
   "cell_type": "code",
   "execution_count": null,
   "metadata": {},
   "outputs": [],
   "source": [
    "\n",
    "def mutate(parent):\n",
    "    index = random.randrange(0, len(parent))\n",
    "    childGenes = list(parent)\n",
    "    newGene, alternate = random.sample(geneSet, 2)\n",
    "    childGenes[index] = alternate if newGene == childGenes[index] else newGene\n",
    "    return \"\".join(childGenes)   \n"
   ]
  },
  {
   "cell_type": "code",
   "execution_count": null,
   "metadata": {},
   "outputs": [],
   "source": [
    "print(\"Guess : \"+guess)\n",
    "print(\"Mutant: \"+mutate(guess))"
   ]
  },
  {
   "cell_type": "code",
   "execution_count": null,
   "metadata": {},
   "outputs": [],
   "source": [
    "def display(guess):\n",
    "    timeDiff = datetime.datetime.now() - startTime\n",
    "    fitness = get_fitness(guess)\n",
    "    print(\"{0}\\t{1}\\t{2}\".format(guess, fitness, str(timeDiff)))"
   ]
  },
  {
   "cell_type": "code",
   "execution_count": null,
   "metadata": {},
   "outputs": [],
   "source": [
    "random.seed()\n",
    "startTime = datetime.datetime.now()\n",
    "bestParent = generate_parent(len(target))\n",
    "bestFitness = get_fitness(bestParent)\n",
    "display(bestParent)\n",
    "while True:\n",
    "    child = mutate(bestParent)\n",
    "    childFitness = get_fitness(child)\n",
    "    if bestFitness >= childFitness:\n",
    "        continue\n",
    "    display(child)\n",
    "    if childFitness >= len(bestParent):\n",
    "        break\n",
    "    bestFitness = childFitness\n",
    "    bestParent = child"
   ]
  },
  {
   "cell_type": "code",
   "execution_count": null,
   "metadata": {},
   "outputs": [],
   "source": []
  },
  {
   "cell_type": "code",
   "execution_count": 1,
   "metadata": {},
   "outputs": [],
   "source": [
    "import guessPassword\n",
    "from guessPassword import *"
   ]
  },
  {
   "cell_type": "code",
   "execution_count": 2,
   "metadata": {},
   "outputs": [],
   "source": [
    "teste = GuessPassword()"
   ]
  },
  {
   "cell_type": "code",
   "execution_count": 3,
   "metadata": {},
   "outputs": [
    {
     "name": "stdout",
     "output_type": "stream",
     "text": [
      "E OVRQbNzWmi\t0\t0:00:00.000224\n",
      "E OVRQbNrWmi\t1\t0:00:00.000728\n",
      "H OVRQbNrWmi\t2\t0:00:00.001268\n",
      "H OVoQbNrWmi\t3\t0:00:00.001923\n",
      "H OVoQbNrWm!\t4\t0:00:00.004211\n",
      "H OVoQborWm!\t5\t0:00:00.005784\n",
      "H OVoQWorWm!\t6\t0:00:00.008605\n",
      "H OloQWorWm!\t7\t0:00:00.009072\n",
      "H Olo WorWm!\t8\t0:00:00.010759\n",
      "H Olo Worlm!\t9\t0:00:00.013108\n",
      "HeOlo Worlm!\t10\t0:00:00.015305\n",
      "Hello Worlm!\t11\t0:00:00.018452\n",
      "Hello World!\t12\t0:00:00.020506\n"
     ]
    }
   ],
   "source": [
    "teste.test_Hello_World()"
   ]
  },
  {
   "cell_type": "code",
   "execution_count": 4,
   "metadata": {},
   "outputs": [
    {
     "name": "stdout",
     "output_type": "stream",
     "text": [
      "uQmJXYDephzjRAd,FankToCSLfr!MZ.qWbEGNsVv\t0\t0:00:00.001931\n",
      "uQmJXYDmphzjRAd,FankToCSLfr!MZ.qWbEGNsVv\t1\t0:00:00.005425\n",
      "uQmJXYDmphzjRAd,FankToCSLfr!rZ.qWbEGNsVv\t2\t0:00:00.006264\n",
      "uQmJXYDmphzjRAd,FankToCSLnr!rZ.qWbEGNsVv\t3\t0:00:00.041531\n",
      "uQm XYDmphzjRAd,FankToCSLnr!rZ.qWbEGNsVv\t4\t0:00:00.042138\n",
      "uQm XYDmphzjRAd,FankToCSLnr!rf.qWbEGNsVv\t5\t0:00:00.043557\n",
      "uQm XYDmphzjRAd,FankToCSLnr!rf.qWbEGNsV.\t6\t0:00:00.047967\n",
      "uQm XYDmphzjRAd,FankToCSLnr!rf.qWbEmNsV.\t7\t0:00:00.067988\n",
      "uQm IYDmphzjRAd,FankToCSLnr!rf.qWbEmNsV.\t8\t0:00:00.069581\n",
      "uQm IYDmpfzjRAd,FankToCSLnr!rf.qWbEmNsV.\t9\t0:00:00.077275\n",
      "uQm IYDmpfzjRAd,FankToCwLnr!rf.qWbEmNsV.\t10\t0:00:00.078306\n",
      "uQr IYDmpfzjRAd,FankToCwLnr!rf.qWbEmNsV.\t11\t0:00:00.080179\n",
      "uQr IYDmpfzjRAu,FankToCwLnr!rf.qWbEmNsV.\t12\t0:00:00.085986\n",
      "FQr IYDmpfzjRAu,FankToCwLnr!rf.qWbEmNsV.\t13\t0:00:00.086900\n",
      "FQr IYDmpfzjRAu,FankToCwLnr!rfuqWbEmNsV.\t14\t0:00:00.088103\n",
      "FQr IYDmpfzjRAu,FankToCwLnr!rfuqlbEmNsV.\t15\t0:00:00.088528\n",
      "FQr IYDmpfzjRAu,FankToCwLnr!rfullbEmNsV.\t16\t0:00:00.091964\n",
      "FQr IYDm fzjRAu,FankToCwLnr!rfullbEmNsV.\t17\t0:00:00.092581\n",
      "FQr IYDm fzjRAu,FankTdCwLnr!rfullbEmNsV.\t18\t0:00:00.093814\n",
      "FQr IYDm fzjRAu,FankTdCwLnr!rfullbEmasV.\t19\t0:00:00.094670\n",
      "FQr IYDm fzjRAu,FankTdCwLnr!rfullbEmadV.\t20\t0:00:00.095501\n",
      "FQr IYDm fzjRAulFankTdCwLnr!rfullbEmadV.\t21\t0:00:00.097171\n",
      "FQr IYDm fzjRAulFankTdCwLnr!rfullyEmadV.\t22\t0:00:00.099316\n",
      "FQr IYDm fzjRAulFankTdCwLnr!rfullyEmade.\t23\t0:00:00.100254\n",
      "FQr IYDm fzjRAullankTdCwLnr!rfullyEmade.\t24\t0:00:00.100442\n",
      "FQr IYam fzjRAullankTdCwLnr!rfullyEmade.\t25\t0:00:00.101424\n",
      "FQr IYam fzjRAullanaTdCwLnr!rfullyEmade.\t26\t0:00:00.103317\n",
      "FQr I am fzjRAullanaTdCwLnr!rfullyEmade.\t27\t0:00:00.104411\n",
      "FQr I am fzjRAullanaTdCwonr!rfullyEmade.\t28\t0:00:00.105743\n",
      "FQr I am fzjRAullanaTdCwonr!rfully made.\t29\t0:00:00.106766\n",
      "FQr I am fzjRAullanaTd wonr!rfully made.\t30\t0:00:00.108396\n",
      "FQr I am fzjRAullanaTd wonrerfully made.\t31\t0:00:00.113167\n",
      "FQr I am fzjRAullanand wonrerfully made.\t32\t0:00:00.114031\n",
      "FQr I am fzjRAullynand wonrerfully made.\t33\t0:00:00.120006\n",
      "For I am fzjRAullynand wonrerfully made.\t34\t0:00:00.120291\n",
      "For I am fzaRAullynand wonrerfully made.\t35\t0:00:00.123703\n",
      "For I am fzarAullynand wonrerfully made.\t36\t0:00:00.130036\n",
      "For I am fearAullynand wonrerfully made.\t37\t0:00:00.136339\n",
      "For I am fearfullynand wonrerfully made.\t38\t0:00:00.139040\n",
      "For I am fearfullynand wonderfully made.\t39\t0:00:00.146233\n",
      "For I am fearfully and wonderfully made.\t40\t0:00:00.171794\n"
     ]
    }
   ],
   "source": [
    "teste.test_For_I_am_fearfully_and_wonderfully_made()"
   ]
  },
  {
   "cell_type": "code",
   "execution_count": 5,
   "metadata": {},
   "outputs": [
    {
     "name": "stdout",
     "output_type": "stream",
     "text": [
      "pecJnbwqLvudX.RlFAaTK,OxYCoPE!BWrsgmkUSNIVQ jyZMhDGftHiztFLC!PvSWsRiaVXeZjOKGbrf,hxnYTlgDHQAkqdzpJyBcEMuNUIw om.!FIZmQWOkMLuStaUnjBfV.lX,wGR HpxTrEshy\t5\t0:00:00.002512\n",
      "pecJnbwqLvudX.RlFAaTK,OxYCoPE!BWrsgmkUSNIvQ jyZMhDGftHiztFLC!PvSWsRiaVXeZjOKGbrf,hxnYTlgDHQAkqdzpJyBcEMuNUIw om.!FIZmQWOkMLuStaUnjBfV.lX,wGR HpxTrEshy\t6\t0:00:00.002877\n",
      "pecJnbwqLvudX.RlFAaTK,OxYCoPE!BWrsgmkUSNIvQ jyZMhDGftHiztFLC!PvSWsRiaVXeZjOKGbrf,hxnYTlgDHQAkqdzpJyBcEMuNUIw omR!FIZmQWOkMLuStaUnjBfV.lX,wGR HpxTrEshy\t7\t0:00:00.003807\n",
      "pecJnbwqLvudX.RlFAaTK,OxYCoPE!BWrsgmkUSNIvQ jyZMhDGftHiztFLC!PvSWsRiaVXeZjOKGbrf,hxnYTlgDHQAkqdzpJyBcEMu.UIw omR!FIZmQWOkMLuStaUnjBfV.lX,wGR HpxTrEshy\t8\t0:00:00.006655\n",
      "pecJnbwqLvudX.RlFAaTK,FxYCoPE!BWrsgmkUSNIvQ jyZMhDGftHiztFLC!PvSWsRiaVXeZjOKGbrf,hxnYTlgDHQAkqdzpJyBcEMu.UIw omR!FIZmQWOkMLuStaUnjBfV.lX,wGR HpxTrEshy\t9\t0:00:00.009367\n",
      "pecJnbwqLvudX.RlFAaTK,FxYCoPE!BWrsgmkUSNIvQ jyZMhDGftHiztFLC!PvSWsRiaVXeZjOKGbrf,hxnYTlgDHQAkqdzpJyBcEMu.UIw omR!FIZmQWOkMLuStaUnjBfV.lX,wGR HpxTrkshy\t10\t0:00:00.009728\n",
      "pecJnbwqLvudX.RlFAaTK,FxYCoPE!BWrsgmkUSNIvQ jyZMhDGftHiztFLC!PvSWsRiaVXeZj KGbrf,hxnYTlgDHQAkqdzpJyBcEMu.UIw omR!FIZmQWOkMLuStaUnjBfV.lX,wGR HpxTrkshy\t11\t0:00:00.011206\n",
      "pecJnbwqLvudX.RlFAaTK,FxYCoPE!BWrsgmkUSNIvQ jyZMhDGftHiztFLC!PvSWsRiaVXeZj KGbrf,hxnYTlgDHQAkqdzpJyBcEMu.UIw omR!FIZmQWOkMLuStaUyjBfV.lX,wGR HpxTrkshy\t12\t0:00:00.012214\n",
      "pecJnbwqLvudX.RlFAaTK,FxYCoPE!BWrsgmkUSNIvQ jyZMhDGftHiztFLC!PvSWsRiaVXeZj KGbrf,hxnYTlgDHQAkqdzpJyBcEMu.UIw omR!FIZmQWOkMLuStaUyjBfV.lX,jGR HpxTrkshy\t13\t0:00:00.014679\n",
      "pecJnbwqLvudX.RlFAaTK,FxYCoPE!BWrsgmkUSNIvQ jyZPhDGftHiztFLC!PvSWsRiaVXeZj KGbrf,hxnYTlgDHQAkqdzpJyBcEMu.UIw omR!FIZmQWOkMLuStaUyjBfV.lX,jGR HpxTrkshy\t14\t0:00:00.018131\n",
      "pecJnbwqLvudX.RlFAaTK,FxYCoPE!BWrsgmkUSNIvQ jyZPhDGftHiztFLC!PvSWsRiaVXeZj KGbrf,hxnY,lgDHQAkqdzpJyBcEMu.UIw omR!FIZmQWOkMLuStaUyjBfV.lX,jGR HpxTrkshy\t15\t0:00:00.020232\n",
      "pecJnbwqLvudX.RlFAaTK,FxYCoPE!BWrsgmkUSNIvQ jyZPhDGftHiztFLC!PvSWsRiaVXeZj KGbrf,hxnY,lgDHQAkqdzpJyBcEMu.UIw omR!FIZmQWOkMLuStaUy.BfV.lX,jGR HpxTrkshy\t16\t0:00:00.023675\n",
      "pecJnbwqLvudX.RlFAaTK,FxYCoPE!BWrsgmkUSNIvQ jyZPhDGftHiztFLC!PvVWsRiaVXeZj KGbrf,hxnY,lgDHQAkqdzpJyBcEMu.UIw omR!FIZmQWOkMLuStaUy.BfV.lX,jGR HpxTrkshy\t17\t0:00:00.024142\n",
      "pecJnbwqLvudX.RlFAaTK,FxYCoPE!BWrsgmkUSNIvQ jyZPhDGftHiztFLC!PvVWsRiaVXeZj KGbrf,hxnY,lgDHQAkqdzpJyBcEMu.UIw omR!FIZmQWOkMLuStaUy.BfV.lX,jGR HpxTskshy\t18\t0:00:00.024626\n",
      "pecJnbwqLvudX.RlFAaTK,FxYCoPE!BWrsgmkUSNIvQ jyZPhDGftHiztFLC!PvVWsRiaVXeZj KGbrf,hxnY,lgDHQAkqdzpJyBcEMu.UIw omR!FIZmQWOWMLuStaUy.BfV.lX,jGR HpxTskshy\t19\t0:00:00.026430\n",
      "pecJnbwqLvudX.RlFAaTK,FVYCoPE!BWrsgmkUSNIvQ jyZPhDGftHiztFLC!PvVWsRiaVXeZj KGbrf,hxnY,lgDHQAkqdzpJyBcEMu.UIw omR!FIZmQWOWMLuStaUy.BfV.lX,jGR HpxTskshy\t20\t0:00:00.027482\n",
      "pecJnbwqLvudX.RlFAaTK,FVYCoPE!BWrsgmkUSNIvQ jyZPhDGftHiztFLC!PvVWsRiaZXeZj KGbrf,hxnY,lgDHQAkqdzpJyBcEMu.UIw omR!FIZmQWOWMLuStaUy.BfV.lX,jGR HpxTskshy\t21\t0:00:00.037764\n",
      "pecJnbwqLvudX.RlFAaTK,FVYCoPE!BWrsgmkUSNIvQ jyZPhDGftHiztFLC!PvVWsRiaZXeZj KGbrf,hxnY,lgDHQAkqdzpJyBcEMu.UIw omR!FIZmQOOWMLuStaUy.BfV.lX,jGR HpxTskshy\t22\t0:00:00.038182\n",
      "pecJnbwqLvudQ.RlFAaTK,FVYCoPE!BWrsgmkUSNIvQ jyZPhDGftHiztFLC!PvVWsRiaZXeZj KGbrf,hxnY,lgDHQAkqdzpJyBcEMu.UIw omR!FIZmQOOWMLuStaUy.BfV.lX,jGR HpxTskshy\t23\t0:00:00.040103\n",
      "pecJnbwqLvudQ.RlFAaTK,FVYCoPE!BWrsgmkUSNIvQ jyZPhDGftHiztFLC!PvVWJRiaZXeZj KGbrf,hxnY,lgDHQAkqdzpJyBcEMu.UIw omR!FIZmQOOWMLuStaUy.BfV.lX,jGR HpxTskshy\t24\t0:00:00.042277\n",
      "pecJnbwqLvudQ.RlFAaTK,FVYCoPE!BWrsgmkUSNIvQ jyZPhDGftHiztFLC!PvVWJRiaZXeZj KGbrf,hxnY,lgDHQAkqdzpJyBcEMu.UIw omR!FIZmQOOWMLZStaUy.BfV.lX,jGR HpxTskshy\t25\t0:00:00.044003\n",
      "pecJnbwqLvudQ.RlFAaTK,FVYCoPE!BWrsgmkUSNIvQ jyZPhDGftHiztFLC!PrVWJRiaZXeZj KGbrf,hxnY,lgDHQAkqdzpJyBcEMu.UIw omR!FIZmQOOWMLZStaUy.BfV.lX,jGR HpxTskshy\t26\t0:00:00.045543\n",
      "pecJnCwqLvudQ.RlFAaTK,FVYCoPE!BWrsgmkUSNIvQ jyZPhDGftHiztFLC!PrVWJRiaZXeZj KGbrf,hxnY,lgDHQAkqdzpJyBcEMu.UIw omR!FIZmQOOWMLZStaUy.BfV.lX,jGR HpxTskshy\t27\t0:00:00.048696\n",
      "pecJnCwqLvudQ.RlFAaTK,FVYCoPE!BWrsgmkUSNIvQ jyZPhDGftHiztFLC!PrVWJRiaZXeZj KGbrf,hxnY,DgDHQAkqdzpJyBcEMu.UIw omR!FIZmQOOWMLZStaUy.BfV.lX,jGR HpxTskshy\t28\t0:00:00.052149\n",
      "pecJnCwqLvudQ.RlFAaTK,FVYCoPE!BWrsgmkUSNIvQ jyZPVDGftHiztFLC!PrVWJRiaZXeZj KGbrf,hxnY,DgDHQAkqdzpJyBcEMu.UIw omR!FIZmQOOWMLZStaUy.BfV.lX,jGR HpxTskshy\t29\t0:00:00.057985\n",
      "pecJnCwqLvudQ.RlFAaTK,FVYCoPE!BWrsgmkUSNIvQ jyZPVDGftHiztFLC!PrVWJRiaZXeZj KGbrf,hxnY,DgDHQAkqdzpJyBcEMu.UIw omR!FIZmQOOWMLZStaUy.BfV.lf,jGR HpxTskshy\t30\t0:00:00.060783\n",
      "pecJnCwqLvudQ.RlFAaTK,FVYCoPE!BWrsgmkUSNIve jyZPVDGftHiztFLC!PrVWJRiaZXeZj KGbrf,hxnY,DgDHQAkqdzpJyBcEMu.UIw omR!FIZmQOOWMLZStaUy.BfV.lf,jGR HpxTskshy\t31\t0:00:00.061883\n",
      "pecJnCwqLvudQ.RlFAaTK,FVYCoPE!BWrsgmkUSNIve jyZPVDcftHiztFLC!PrVWJRiaZXeZj KGbrf,hxnY,DgDHQAkqdzpJyBcEMu.UIw omR!FIZmQOOWMLZStaUy.BfV.lf,jGR HpxTskshy\t32\t0:00:00.065304\n",
      "pecJnCwqLvudQ.RlFAaTK,FVYCoPE!BWrsgmkUSNIve jyZPVDcftHiztFLC!PrVWJRiaZXeZj KGbrf,hxeY,DgDHQAkqdzpJyBcEMu.UIw omR!FIZmQOOWMLZStaUy.BfV.lf,jGR HpxTskshy\t33\t0:00:00.066190\n",
      "pecJnCwqLvudQ.RlFAaTK,FVYCoPE!BWrsgmkUSNIve jyZPVDcftHiztFLC!PrVWJRiaZXeZj KGbrf,hDeY,DgDHQAkqdzpJyBcEMu.UIw omR!FIZmQOOWMLZStaUy.BfV.lf,jGR HpxTskshy\t34\t0:00:00.066425\n",
      "pecJnCwqLvudQ.RlFAaTK,FVYCoPE!BWrsgmkUSNIve jyZPVDcftHiztFLC!PrVWJRiaZXeZj KGbrfOhDeY,DgDHQAkqdzpJyBcEMu.UIw omR!FIZmQOOWMLZStaUy.BfV.lf,jGR HpxTskshy\t35\t0:00:00.068652\n",
      "pecJnCwqLvudQ.RlFAaTK,FVYCoPE!BWrsgmkUSNIve jyZPVDcfPHiztFLC!PrVWJRiaZXeZj KGbrfOhDeY,DgDHQAkqdzpJyBcEMu.UIw omR!FIZmQOOWMLZStaUy.BfV.lf,jGR HpxTskshy\t36\t0:00:00.071602\n",
      "pecJnCwqLvudQ.RlFAaTK,FVYCoPE!BWrsgmkUSNIve jyZPVDcfPHiztFLC!PrVWJRiaZXeZj KGbrfOhDeY,DgDHQAkqdzpJyBbEMu.UIw omR!FIZmQOOWMLZStaUy.BfV.lf,jGR HpxTskshy\t37\t0:00:00.074396\n",
      "pecJnCwqLvudQ.NlFAaTK,FVYCoPE!BWrsgmkUSNIve jyZPVDcfPHiztFLC!PrVWJRiaZXeZj KGbrfOhDeY,DgDHQAkqdzpJyBbEMu.UIw omR!FIZmQOOWMLZStaUy.BfV.lf,jGR HpxTskshy\t38\t0:00:00.074823\n",
      "pecJnCwqLvudQ.NlFAaTK,FVYCoPE!BWrsgmkUSNIve jyZPVDcfPHiztFLC!PrVWJRiaZXeZj KGbrfOhDeY,DgDHQAkqdzpJyBbEuu.UIw omR!FIZmQOOWMLZStaUy.BfV.lf,jGR HpxTskshy\t39\t0:00:00.080356\n",
      "pecJnCwqLvudQ.NlFAaTKmFVYCoPE!BWrsgmkUSNIve jyZPVDcfPHiztFLC!PrVWJRiaZXeZj KGbrfOhDeY,DgDHQAkqdzpJyBbEuu.UIw omR!FIZmQOOWMLZStaUy.BfV.lf,jGR HpxTskshy\t40\t0:00:00.081692\n",
      "pecJnCwqLvudQ.NlFAaTKmFVYCoPEXBWrsgmkUSNIve jyZPVDcfPHiztFLC!PrVWJRiaZXeZj KGbrfOhDeY,DgDHQAkqdzpJyBbEuu.UIw omR!FIZmQOOWMLZStaUy.BfV.lf,jGR HpxTskshy\t41\t0:00:00.084733\n",
      "pecJnCwqLvudQ.NlFAaTKmFVYCoPEXBWrsgmkUSNIve jyZPVDcfPHiztFLC!PrVWJRiaZXeZj KGbrfOhDeY,DgDHQAMqdzpJyBbEuu.UIw omR!FIZmQOOWMLZStaUy.BfV.lf,jGR HpxTskshy\t42\t0:00:00.085153\n",
      "pecJnCwqLvudQ.NlFAaTKmFVYCoPEXBWrsgmkUSNIve jyZPVDcfPHiztFLC!PrVWJRiaZXeZj KGbrfOhDeY,DgDHQAMqdzpJyBbEuu.UIw omR!FIZmQOOWMLZStaUy.BKV.lf,jGR HpxTskshy\t43\t0:00:00.090021\n",
      "pecJnCwqLvudQ.NlFAaTKmFVYCoPEXBersgmkUSNIve jyZPVDcfPHiztFLC!PrVWJRiaZXeZj KGbrfOhDeY,DgDHQAMqdzpJyBbEuu.UIw omR!FIZmQOOWMLZStaUy.BKV.lf,jGR HpxTskshy\t44\t0:00:00.092571\n",
      "pecJnCwqLvudQ.NlFAaTKmFVYCoPEXBersgmkUSNIve jyZPVDcfPHiztFLC!PrVWJRiaZXeZj KGbAfOhDeY,DgDHQAMqdzpJyBbEuu.UIw omR!FIZmQOOWMLZStaUy.BKV.lf,jGR HpxTskshy\t45\t0:00:00.097617\n",
      "pecJnCwqLvudQ.NlFAaTKmFVYCoPEXBersgmkUSNIve jyZPVDcfPHiztFLC!PrVWJRiaZXeZj KGbAfOhDeY,DgDHQAMqVzpJyBbEuu.UIw omR!FIZmQOOWMLZStaUy.BKV.lf,jGR HpxTskshy\t46\t0:00:00.101287\n",
      "pecJnCwqLvudQ.NlFAaTKmFVYCoPEXBersgmkUSNIve jyZPVDcfPHiztFoC!PrVWJRiaZXeZj KGbAfOhDeY,DgDHQAMqVzpJyBbEuu.UIw omR!FIZmQOOWMLZStaUy.BKV.lf,jGR HpxTskshy\t47\t0:00:00.101677\n",
      "pecJnCwqLvudQ.NlFAaTKmFVYCoPEXBersgmkUSNIve jyZPVDcfPHiztFoC!PrVWJRiaZXeZj KGbAfOhDeY,DgDHQAMqVzpJABbEuu.UIw omR!FIZmQOOWMLZStaUy.BKV.lf,jGR HpxTskshy\t48\t0:00:00.103154\n",
      "pecJnCwqLvudQ.NlFAaTKmFVYCoPEXBersgmkUSNIve jyZPVDcfPHiztFoC!PrVWJRiaZXeZj KGbAfOhDeY,DgDHQAMqVzpJABbEuu.UIw omR!FIZmQOOWMLZStaUy.BKV!lf,jGR HpxTskshy\t49\t0:00:00.103405\n",
      "pecJnCwqLvudQ.NlFAaTKmFVYCoPEXBersgmkUSNIve jyZPVDcfPHiztFoC!PrVWJRiaZXeZj KGbAfOhDeY,DgDHQAMqVzpJABbEuu.UIw omR!FIZmQOOWMLZStaUy.BKV!lf,jGR Hpxlskshy\t50\t0:00:00.104317\n",
      "pecJFCwqLvudQ.NlFAaTKmFVYCoPEXBersgmkUSNIve jyZPVDcfPHiztFoC!PrVWJRiaZXeZj KGbAfOhDeY,DgDHQAMqVzpJABbEuu.UIw omR!FIZmQOOWMLZStaUy.BKV!lf,jGR Hpxlskshy\t51\t0:00:00.104733\n",
      "pecJFCwqLvudQ.NlFAaTKmFVYCoPEXBersgmkUSNIve jyZPVDcfPHiztFoC!PrVWJRiaZXeZj KGbAfOhDeY,DgDHVAMqVzpJABbEuu.UIw omR!FIZmQOOWMLZStaUy.BKV!lf,jGR Hpxlskshy\t52\t0:00:00.111147\n",
      "pecJFCwqLvudQ.NlFAaTKmFVYCoPEXBersgmkUSNIve jyZPVDcfPHiztFoC!PrVWJRiaZXeZj KGbAfOhDeY,DgDHVAMqVzpJABbEuu.UIw omR!FIZmQOOWMLZStaUy.BKV!lf,jGR HJxlskshy\t53\t0:00:00.112221\n",
      "pecJFCwqLvudQ.NlFAaTKmFVYCoPEXBersgmkUShIve jyZPVDcfPHiztFoC!PrVWJRiaZXeZj KGbAfOhDeY,DgDHVAMqVzpJABbEuu.UIw omR!FIZmQOOWMLZStaUy.BKV!lf,jGR HJxlskshy\t54\t0:00:00.116470\n",
      "pecJFCwqLvudQ.NlFAaTKmFVYCoPEXBersgmkUShAve jyZPVDcfPHiztFoC!PrVWJRiaZXeZj KGbAfOhDeY,DgDHVAMqVzpJABbEuu.UIw omR!FIZmQOOWMLZStaUy.BKV!lf,jGR HJxlskshy\t55\t0:00:00.123353\n",
      "pecJFCwqLvugQ.NlFAaTKmFVYCoPEXBersgmkUShAve jyZPVDcfPHiztFoC!PrVWJRiaZXeZj KGbAfOhDeY,DgDHVAMqVzpJABbEuu.UIw omR!FIZmQOOWMLZStaUy.BKV!lf,jGR HJxlskshy\t56\t0:00:00.127447\n",
      "pecJFCwqLvugQ.NlFAaTKmFVYCoPEXBersgmkUShAve jyZPVDcfPHiztFoC!PrVWJRiaZXeZj KGbAfOZDeY,DgDHVAMqVzpJABbEuu.UIw omR!FIZmQOOWMLZStaUy.BKV!lf,jGR HJxlskshy\t57\t0:00:00.128654\n",
      "pecJFCwqLvugQ.NlFAaTKmFVYCoPEXBersgmkUShAve jyZPVDcfPHizAFoC!PrVWJRiaZXeZj KGbAfOZDeY,DgDHVAMqVzpJABbEuu.UIw omR!FIZmQOOWMLZStaUy.BKV!lf,jGR HJxlskshy\t58\t0:00:00.130015\n",
      "pecJFCwqLvugQ.NlFAaTKmFVYCoPEXBerGgmkUShAve jyZPVDcfPHizAFoC!PrVWJRiaZXeZj KGbAfOZDeY,DgDHVAMqVzpJABbEuu.UIw omR!FIZmQOOWMLZStaUy.BKV!lf,jGR HJxlskshy\t59\t0:00:00.130295\n",
      "pecJFCwqLvugQ.NlFAaTKmFVYCoPEXBerGgmkURhAve jyZPVDcfPHizAFoC!PrVWJRiaZXeZj KGbAfOZDeY,DgDHVAMqVzpJABbEuu.UIw omR!FIZmQOOWMLZStaUy.BKV!lf,jGR HJxlskshy\t60\t0:00:00.131987\n",
      "pecJFCwqLvugQ.NlFAaTKmFVYCoPEXBerGgmkURhAve jyZPVDcfPHizAFoC!PrVWJRiaZXeZj KGbAfOZDeY,DgDHVAMqVzpJABbEuu.UIw omRXFIZmQOOWMLZStaUy.BKV!lf,jGR HJxlskshy\t61\t0:00:00.132102\n",
      "pecJFCwqLvugQ.NlFAaTKmFVYCoPEXBerGgmkURhAve jyZPVDcfPHizAFoC!PrVWJRiaZXeZj KGbAfOZDeY,DgDHVLMqVzpJABbEuu.UIw omRXFIZmQOOWMLZStaUy.BKV!lf,jGR HJxlskshy\t62\t0:00:00.133605\n",
      "pecJFCwqLvugQ.NlFAaTKmFVYJoPEXBerGgmkURhAve jyZPVDcfPHizAFoC!PrVWJRiaZXeZj KGbAfOZDeY,DgDHVLMqVzpJABbEuu.UIw omRXFIZmQOOWMLZStaUy.BKV!lf,jGR HJxlskshy\t63\t0:00:00.134842\n",
      "pecJFCwqLvugQ.NlFAaTKmFVYJoPEXBerGgmkURhAve jyZPVDcfPHizAFoC!PrVWJRiaZXeZj KGbAfOZDeY,DgDHVLMqVzpJABbEuu.UIw omRXFIZmQOOWMLZStaUy.BKV!lf,jGR HJYlskshy\t64\t0:00:00.140335\n",
      "pecJFCwqLvugQ.NlFAaTKmFVYJoPEXBerGgmkURhAve jyZPVDcfPvizAFoC!PrVWJRiaZXeZj KGbAfOZDeY,DgDHVLMqVzpJABbEuu.UIw omRXFIZmQOOWMLZStaUy.BKV!lf,jGR HJYlskshy\t65\t0:00:00.144422\n",
      "pecJFCwqLvugQ.NlFHaTKmFVYJoPEXBerGgmkURhAve jyZPVDcfPvizAFoC!PrVWJRiaZXeZj KGbAfOZDeY,DgDHVLMqVzpJABbEuu.UIw omRXFIZmQOOWMLZStaUy.BKV!lf,jGR HJYlskshy\t66\t0:00:00.145441\n",
      "pecJFCwqLvugQ.NlFHaTKmFVYJoPEXBerGgmkURhAve jyZPVDcfPvizAFoC!PrVWJRiaZXeZj KGbAfOZDeY,DvDHVLMqVzpJABbEuu.UIw omRXFIZmQOOWMLZStaUy.BKV!lf,jGR HJYlskshy\t67\t0:00:00.148074\n",
      "pecJFCwqLvugQ.NlFHaTKmFVYJoPEXBekGgmkURhAve jyZPVDcfPvizAFoC!PrVWJRiaZXeZj KGbAfOZDeY,DvDHVLMqVzpJABbEuu.UIw omRXFIZmQOOWMLZStaUy.BKV!lf,jGR HJYlskshy\t68\t0:00:00.152135\n",
      "pecJFCwqLvugQ.NlFHaTKmFVYJoPEXBekGgmkURhAve jyZPV,cfPvizAFoC!PrVWJRiaZXeZj KGbAfOZDeY,DvDHVLMqVzpJABbEuu.UIw omRXFIZmQOOWMLZStaUy.BKV!lf,jGR HJYlskshy\t69\t0:00:00.153827\n",
      "pecJFCwqLvugQ.NlFHaTKmFVYJoPEXBekGgmkURhAve jyZPV,cfPvizAFoC!PrVWJRiaZXeZj KGbAfOZDeY,DvDHVLMqVzpJABbEuu.UIw omRXFIZmQOOWMLZStaUy.BKV!lf,jGR HJYlskZhy\t70\t0:00:00.155000\n",
      "pecJFCwqLvugQ.NlFHaTKmFVYJoPEXBekGgmkURhAve jyZPV,cfPvizAFoC!PrVWJRiaZXeZj KGbAfOZDeY,DvDHVLMqVzpJABbEuu.UIw oJRXFIZmQOOWMLZStaUy.BKV!lf,jGR HJYlskZhy\t71\t0:00:00.155996\n",
      "pecJFCwqLvugQ.N FHaTKmFVYJoPEXBekGgmkURhAve jyZPV,cfPvizAFoC!PrVWJRiaZXeZj KGbAfOZDeY,DvDHVLMqVzpJABbEuu.UIw oJRXFIZmQOOWMLZStaUy.BKV!lf,jGR HJYlskZhy\t72\t0:00:00.165624\n",
      "pecJFCwqLvugQ.N FHaTKmFVYJoPEXBekGgmkURhAve jyZPV,cfPvizAFoC!PrVWJRiaZXeZj KGbAfOZDeO,DvDHVLMqVzpJABbEuu.UIw oJRXFIZmQOOWMLZStaUy.BKV!lf,jGR HJYlskZhy\t73\t0:00:00.166530\n",
      "pecJFCwqLvugQ.N FHaTKmFVYJoPEXBekGgmkURhAve jyZPV,cfPvizAFoC!PrVWJfiaZXeZj KGbAfOZDeO,DvDHVLMqVzpJABbEuu.UIw oJRXFIZmQOOWMLZStaUy.BKV!lf,jGR HJYlskZhy\t74\t0:00:00.168532\n",
      "pecJFCwqLvugQ.N FHaTKmFVYJoPEXBekGgmkURhAve jyZPV,cfPvizAFoC!PrVWJfiaZXeZj KGbAfOZDeO,DvDHVLMqVzpJABbEuu.UIw oJRXpIZmQOOWMLZStaUy.BKV!lf,jGR HJYlskZhy\t75\t0:00:00.170829\n",
      "pecJFCwqLvugQ.N FHaTKmFVYJoPEXBekGgmkURhAve jyZPV,cfPvizAFoC!PrVWJfiaZXekj KGbAfOZDeO,DvDHVLMqVzpJABbEuu.UIw oJRXpIZmQOOWMLZStaUy.BKV!lf,jGR HJYlskZhy\t76\t0:00:00.170954\n",
      "pecJFCwqLvugQ.N FHaTKmFVYJoPEXBekGgmkTRhAve jyZPV,cfPvizAFoC!PrVWJfiaZXekj KGbAfOZDeO,DvDHVLMqVzpJABbEuu.UIw oJRXpIZmQOOWMLZStaUy.BKV!lf,jGR HJYlskZhy\t77\t0:00:00.171237\n",
      "pecJFCwqLvugQ.N FHaTKmFVYJoPEXBekGgmkTRhAve jyZPV,cfPvizAFoC!PrVWJfiaZXekj KGbAfOZDeO,DvDHVLMqV,pJABbEuu.UIw oJRXpIZmQOOWMLZStaUy.BKV!lf,jGR HJYlskZhy\t78\t0:00:00.171673\n",
      "pecJFCwqLvugQ.N FHaTKmFVYJoPEXBekGgmkTRhAve jyZPV,cfPvizAFoC!PrVWJfEaZXekj KGbAfOZDeO,DvDHVLMqV,pJABbEuu.UIw oJRXpIZmQOOWMLZStaUy.BKV!lf,jGR HJYlskZhy\t79\t0:00:00.182641\n",
      "pecJFCwqLvugQ.N FHaTKmFVYJoPEXBekGgmkTRhAve jyZPV,cfPvizAFoC!PrVWJfEaZXekj KxbAfOZDeO,DvDHVLMqV,pJABbEuu.UIw oJRXpIZmQOOWMLZStaUy.BKV!lf,jGR HJYlskZhy\t80\t0:00:00.185593\n",
      "pecJFCwqLvugQ.N FHaTKmFVYJoPEXBekGgmkTRhAve jyZPV,cfPvizAFoC!PrVWJfEaZXekj KxbAfOZDeO,DvDHVLMJV,pJABbEuu.UIw oJRXpIZmQOOWMLZStaUy.BKV!lf,jGR HJYlskZhy\t81\t0:00:00.185741\n",
      "pecJFCwqbvugQ.N FHaTKmFVYJoPEXBekGgmkTRhAve jyZPV,cfPvizAFoC!PrVWJfEaZXekj KxbAfOZDeO,DvDHVLMJV,pJABbEuu.UIw oJRXpIZmQOOWMLZStaUy.BKV!lf,jGR HJYlskZhy\t82\t0:00:00.189762\n",
      "pecJFCwqbvugQ.N FHaTKmFVYJoPEXBekGgmkTRhAve jyZPV,cfPvizAFoC!PrVWJfEaZXekj KxbAfOZDeO,DvDHVLMJV,pJABbEuu.UIw oJRXpIZmQOOWMLZStaYy.BKV!lf,jGR HJYlskZhy\t83\t0:00:00.191111\n",
      "pecJFCwqbvugQ.N FHaTKmFVYJoPEXBekGgmkTRhAve jyZPV,cfPvizAFoC!PrVWJfEaZXekj KxbAfOZDeO,DvDHVLMJV,pJABbEuu.UIw oJRXpIZmQOOWMLZStaYy.bKV!lf,jGR HJYlskZhy\t84\t0:00:00.193059\n",
      "pecJFCwqbvugQ.N FHaTKmFVYJoPEXBekGgmkTRhAve jyZPV,cfPvizAFoC!.rVWJfEaZXekj KxbAfOZDeO,DvDHVLMJV,pJABbEuu.UIw oJRXpIZmQOOWMLZStaYy.bKV!lf,jGR HJYlskZhy\t85\t0:00:00.194578\n",
      "pecJFCwqbvugQ.N FHaTKmFVYJoPEXBekGgmkTRhAve jyZPV,cfPvizAFoC!.rVWJfEaZXekj KxbAfOZDeO,DvDHVLMJV,pJABbEuq.UIw oJRXpIZmQOOWMLZStaYy.bKV!lf,jGR HJYlskZhy\t86\t0:00:00.195138\n",
      "pecJFCwqbvugQ.N FHaTKmFVYJoPEXBekGZmkTRhAve jyZPV,cfPvizAFoC!.rVWJfEaZXekj KxbAfOZDeO,DvDHVLMJV,pJABbEuq.UIw oJRXpIZmQOOWMLZStaYy.bKV!lf,jGR HJYlskZhy\t87\t0:00:00.200723\n"
     ]
    },
    {
     "name": "stdout",
     "output_type": "stream",
     "text": [
      "pecJFCwqbvugQ.N FHaTKmFVYJoPEXBekGZmkTRhAve jyZPV,cfPvizAFoC!.rVWJfEaZXekj KxbAfOZDeO,DvDHVLMJV,pJABbEuq.UIw oJRXpIZmQOOWMCZStaYy.bKV!lf,jGR HJYlskZhy\t88\t0:00:00.206969\n",
      "pecJFCwqbvugQ.N FHaTKmFVYJoPEXBekGZmkTRhAve jyZPV,cfPvizAFoC!.rVWJfEaZXekj KxbAfOZDeO,DvDHVLMJV,pJABbEuq.UIw oJRXpIZmQOOWMCZStaYy.bKV!lf,jYR HJYlskZhy\t89\t0:00:00.215148\n",
      "pecJFCwqbvugQ.N FHaTKmFVYJoPEXBekGZmkTRhAve jyZPV,cfPviDAFoC!.rVWJfEaZXekj KxbAfOZDeO,DvDHVLMJV,pJABbEuq.UIw oJRXpIZmQOOWMCZStaYy.bKV!lf,jYR HJYlskZhy\t90\t0:00:00.219047\n",
      "pecJFCwqbvugQ.N FHaTKmFVYJoPEXBekGZmkTRhAve jyZPV,cfPviDAFoC!.rVWJfEaZXekj KxbAfOZDeO,DvDHVLMJV,pJABbEuq.UIw oJRXpIZmQOOWUCZStaYy.bKV!lf,jYR HJYlskZhy\t91\t0:00:00.231584\n",
      "pecJFCwqbvngQ.N FHaTKmFVYJoPEXBekGZmkTRhAve jyZPV,cfPviDAFoC!.rVWJfEaZXekj KxbAfOZDeO,DvDHVLMJV,pJABbEuq.UIw oJRXpIZmQOOWUCZStaYy.bKV!lf,jYR HJYlskZhy\t92\t0:00:00.233145\n",
      "pecJFCwqbvngQ.N FHaTKmFVYJoPEXBekGZmkTRhAve jyZPV,cfPviDAFoC!.rVWJfEaZXekj KxbAfOZDeO,DvDHVLMJV,pJABbEuq.UIw oJRXpIZmQOOWUCZStaYy.bKV!lf,jYR FJYlskZhy\t93\t0:00:00.233805\n",
      "pecJFCwqbvngQ.N FHaTKmFVYJoPEXBekGZmkTRhAve jyZPV,cfPvRDAFoC!.rVWJfEaZXekj KxbAfOZDeO,DvDHVLMJV,pJABbEuq.UIw oJRXpIZmQOOWUCZStaYy.bKV!lf,jYR FJYlskZhy\t94\t0:00:00.235731\n",
      "pecJFCwqbvngQ,N FHaTKmFVYJoPEXBekGZmkTRhAve jyZPV,cfPvRDAFoC!.rVWJfEaZXekj KxbAfOZDeO,DvDHVLMJV,pJABbEuq.UIw oJRXpIZmQOOWUCZStaYy.bKV!lf,jYR FJYlskZhy\t95\t0:00:00.237297\n",
      "pecJFCwqbvngQ,N FHaTKmFVYJoPEXBekGZmkTRhAve jyZPV,cfPvRDAFoC!.rVWJfEaZXekj KxbAfOZDeO,DvDHVLMJV,pJABbEuq.UIw oJRXpIZmQOOWUCZStaYy.bKJ!lf,jYR FJYlskZhy\t96\t0:00:00.244640\n",
      "pecJFCwqbvngQ,N FHaTKmFVYJoPEXBekGZmkTRhAve jyZPV,cfPvRDAFoC!.rVWJfEaZXekj KxbAfOZDeO,DvDHVLMJV,pJAobEuq.UIw oJRXpIZmQOOWUCZStaYy.bKJ!lf,jYR FJYlskZhy\t97\t0:00:00.255009\n",
      "pecJFCwqbvngQ,N FHaTKmFVYJoPEXBekGZmkTRhAve jyZPV,cfPvRDAFoC!.rVWJfEaZXekj KxbAfOZDeO,DvDHVLMJV,pJAobEuq.UIw.oJRXpIZmQOOWUCZStaYy.bKJ!lf,jYR FJYlskZhy\t98\t0:00:00.261268\n",
      "peuJFCwqbvngQ,N FHaTKmFVYJoPEXBekGZmkTRhAve jyZPV,cfPvRDAFoC!.rVWJfEaZXekj KxbAfOZDeO,DvDHVLMJV,pJAobEuq.UIw.oJRXpIZmQOOWUCZStaYy.bKJ!lf,jYR FJYlskZhy\t99\t0:00:00.261765\n",
      "peuJFCwqbvngQ,N FHaTKmFVYJoPEXBekGZmkTRhAve jyZPV,cfPvRDAFoC!.rVWJfEaZXekj KxbAfOZDeO,DvDHVLMJV,pJAobEuq.UIw.oJRXpIZmQOOWUCZSyaYy.bKJ!lf,jYR FJYlskZhy\t100\t0:00:00.263482\n",
      "peuJFCwqbyngQ,N FHaTKmFVYJoPEXBekGZmkTRhAve jyZPV,cfPvRDAFoC!.rVWJfEaZXekj KxbAfOZDeO,DvDHVLMJV,pJAobEuq.UIw.oJRXpIZmQOOWUCZSyaYy.bKJ!lf,jYR FJYlskZhy\t101\t0:00:00.264500\n",
      "peuJFCwqbyngQ,N sHaTKmFVYJoPEXBekGZmkTRhAve jyZPV,cfPvRDAFoC!.rVWJfEaZXekj KxbAfOZDeO,DvDHVLMJV,pJAobEuq.UIw.oJRXpIZmQOOWUCZSyaYy.bKJ!lf,jYR FJYlskZhy\t102\t0:00:00.266772\n",
      "peuJFCwqbyngQ,N sHaTKmFVYJoPEXBekGZmkTRhAve HyZPV,cfPvRDAFoC!.rVWJfEaZXekj KxbAfOZDeO,DvDHVLMJV,pJAobEuq.UIw.oJRXpIZmQOOWUCZSyaYy.bKJ!lf,jYR FJYlskZhy\t103\t0:00:00.273303\n",
      "peuJFCwqbyngQ,N sHavKmFVYJoPEXBekGZmkTRhAve HyZPV,cfPvRDAFoC!.rVWJfEaZXekj KxbAfOZDeO,DvDHVLMJV,pJAobEuq.UIw.oJRXpIZmQOOWUCZSyaYy.bKJ!lf,jYR FJYlskZhy\t104\t0:00:00.277539\n",
      "peuJFCwqbyngQ,N sHavKmFVYJoPEXBekGZmaTRhAve HyZPV,cfPvRDAFoC!.rVWJfEaZXekj KxbAfOZDeO,DvDHVLMJV,pJAobEuq.UIw.oJRXpIZmQOOWUCZSyaYy.bKJ!lf,jYR FJYlskZhy\t105\t0:00:00.278322\n",
      "peuJFCwqbyngQ,N sHavKmFVYJoPEXBekGZmaTRhAve HyZPV,cfPvRDAFoC!.rVWJfEaZXekj KxbAfOZDeO,DvDHVLMJV,pJAobEuq.UIb.oJRXpIZmQOOWUCZSyaYy.bKJ!lf,jYR FJYlskZhy\t106\t0:00:00.285049\n",
      "peuJFCwqbyngQ,N sHkvKmFVYJoPEXBekGZmaTRhAve HyZPV,cfPvRDAFoC!.rVWJfEaZXekj KxbAfOZDeO,DvDHVLMJV,pJAobEuq.UIb.oJRXpIZmQOOWUCZSyaYy.bKJ!lf,jYR FJYlskZhy\t107\t0:00:00.286671\n",
      "peuJFCwqbyngQ,N sHkvKmFVYJoPEXBekGZmaTRhAve HyZPV,cfPvRDAFoC!.rVWJfEaZXekj PxbAfOZDeO,DvDHVLMJV,pJAobEuq.UIb.oJRXpIZmQOOWUCZSyaYy.bKJ!lf,jYR FJYlskZhy\t108\t0:00:00.287449\n",
      "peuJFCwqbyngQ,N sHkvKmFVYJoPEXBekGZmaTRhAve HyZPV,cfPvRDAFoC!.rVWJfEaZXekj PxbAfOZDeO,DvDHVLMJV,pcAobEuq.UIb.oJRXpIZmQOOWUCZSyaYy.bKJ!lf,jYR FJYlskZhy\t109\t0:00:00.320387\n",
      "peuMFCwqbyngQ,N sHkvKmFVYJoPEXBekGZmaTRhAve HyZPV,cfPvRDAFoC!.rVWJfEaZXekj PxbAfOZDeO,DvDHVLMJV,pcAobEuq.UIb.oJRXpIZmQOOWUCZSyaYy.bKJ!lf,jYR FJYlskZhy\t110\t0:00:00.323238\n",
      "peuMFCwqbyngQ,N sHkvKmFVYJoPEXBekGZmaTRhAve HydPV,cfPvRDAFoC!.rVWJfEaZXekj PxbAfOZDeO,DvDHVLMJV,pcAobEuq.UIb.oJRXpIZmQOOWUCZSyaYy.bKJ!lf,jYR FJYlskZhy\t111\t0:00:00.337563\n",
      "peuMFCwqbyngQ,N sHkvKmFVYJoPEXBekGZmaTRhAve HydPV,chPvRDAFoC!.rVWJfEaZXekj PxbAfOZDeO,DvDHVLMJV,pcAobEuq.UIb.oJRXpIZmQOOWUCZSyaYy.bKJ!lf,jYR FJYlskZhy\t112\t0:00:00.339354\n",
      "peuMFCwqbyngQ,N sHkvKmFVYJoPEXBekGZmaTRhAve HydPV,chPvRDAFoC!.rVWJfEaZXekj PxbAfOZDeO,DvD!VLMJV,pcAobEuq.UIb.oJRXpIZmQOOWUCZSyaYy.bKJ!lf,jYR FJYlskZhy\t113\t0:00:00.351590\n",
      "peuMFCwqbyngQ,N sHkvKmFVnJoPEXBekGZmaTRhAve HydPV,chPvRDAFoC!.rVWJfEaZXekj PxbAfOZDeO,DvD!VLMJV,pcAobEuq.UIb.oJRXpIZmQOOWUCZSyaYy.bKJ!lf,jYR FJYlskZhy\t114\t0:00:00.352804\n",
      "peuMFCwqbyngQ,N sHkvKmFVnJoPEXBekGZmaTRhAve HydPV,chPvRDAFoC!.rVWJfEaZXekj PxbAPOZDeO,DvD!VLMJV,pcAobEuq.UIb.oJRXpIZmQOOWUCZSyaYy.bKJ!lf,jYR FJYlskZhy\t115\t0:00:00.353822\n",
      "peuMFCwqbyngQ,N sHkvKmFVnJoPEXBekGZmaTRhAve HydPV,chPvRDAFoC!.rVWJfEaZXekj PxbAPOZDeO,DvD!VLMJV,pcAobEuq.UIb.oJRXpIZmQOOWUCZSypYy.bKJ!lf,jYR FJYlskZhy\t116\t0:00:00.355521\n",
      "peuMFCwqbyngQ,N sHkvKmFVnJoIEXBekGZmaTRhAve HydPV,chPvRDAFoC!.rVWJfEaZXekj PxbAPOZDeO,DvD!VLMJV,pcAobEuq.UIb.oJRXpIZmQOOWUCZSypYy.bKJ!lf,jYR FJYlskZhy\t117\t0:00:00.370418\n",
      "peuMFCwqbyngQ,N sHkvKmFVnJoIEXBekGZmaTRhAve HydPV,chPvRDAFoC!.rVWJfEaZtekj PxbAPOZDeO,DvD!VLMJV,pcAobEuq.UIb.oJRXpIZmQOOWUCZSypYy.bKJ!lf,jYR FJYlskZhy\t118\t0:00:00.372383\n",
      "peuMFCwqbyngQ,N sHkvKmFVnJoIEXBekGZmaTRhAve HydPV,chPvRDAFoC!.rVWJfEaZtekj PxbAPOZDeO,DvD!VLMJV,pcAobEuq.UIb.oJRXpIZmQOOWUCZSypYy.bKJ!lf,jYR FJYlskZUy\t119\t0:00:00.382690\n",
      "peuMFCwqbyngQ,N sHkvKmFVnJoIEXBekGZmaTRhAve HydPV,chPvRDAFoC!.rVWJfEaZtekj PxbAPOZDeO,DvD!VLMJV,pcAobEuq.UIb.oJRXpIZUQOOWUCZSypYy.bKJ!lf,jYR FJYlskZUy\t120\t0:00:00.385911\n",
      "peuMFCwqbyngQ,N sHkvKmFVnJoIEXBekGZmaTRhAve HydPV,chPvRDAFoC!.rVWJfEaZtekj PxbAPOZDeO,DvG!VLMJV,pcAobEuq.UIb.oJRXpIZUQOOWUCZSypYy.bKJ!lf,jYR FJYlskZUy\t121\t0:00:00.400397\n",
      "peuMFCwqbyngQ,N sHkvKmFVnJoIEXBekGZmaTRhAve HydPV,chPvRDAFoC!.rVWJfEaZtekj PxbAPOZDeO,DvG!VLMJV,pcAobEuq.oIb.oJRXpIZUQOOWUCZSypYy.bKJ!lf,jYR FJYlskZUy\t122\t0:00:00.433139\n",
      "peuMFCwqbyngQ,N sHkvKmFVnJoIEXBekGZmaTRhAve HydPV,chPvRDAFoC!.rVWJfEZZtekj PxbAPOZDeO,DvG!VLMJV,pcAobEuq.oIb.oJRXpIZUQOOWUCZSypYy.bKJ!lf,jYR FJYlskZUy\t123\t0:00:00.439714\n",
      "peuMFCwqbyngQ,N sHkvKmFVnJoIEXBekGZmaTRhAve HydPV,chPvRDAFoC!.rVWJfEZZtekj PxbAPOZDeO,DvG!VLMJV,pcAobCuq.oIb.oJRXpIZUQOOWUCZSypYy.bKJ!lf,jYR FJYlskZUy\t124\t0:00:00.442730\n",
      "peuMFCwqbyngQ,N sHkvKmFVnJoIEXBekGZmaTRhAve HydPV,chPvRDAFoC!.rVWJfEZZtekj PxbAPOZDeO,DvG!VLMJV,pcAobCuq.oIb.oJRXpIZUQOOWUCZDypYy.bKJ!lf,jYR FJYlskZUy\t125\t0:00:00.443866\n",
      "peuMFCwqbyngQ,N sHkvKmFVnJoIEXBekGZmaTRhAve HydPV,chPvRDAFoC!.rVWJfEZZtekj PxbAPOZDeO,DvG!VLMJV,pcAobCuq.oIb.oJRXpIZUQOCWUCZDypYy.bKJ!lf,jYR FJYlskZUy\t126\t0:00:00.444727\n",
      "peuMFCVqbyngQ,N sHkvKmFVnJoIEXBekGZmaTRhAve HydPV,chPvRDAFoC!.rVWJfEZZtekj PxbAPOZDeO,DvG!VLMJV,pcAobCuq.oIb.oJRXpIZUQOCWUCZDypYy.bKJ!lf,jYR FJYlskZUy\t127\t0:00:00.446401\n",
      "peuMFCVqbyngQ,N sHkvKmFVnJoIEXnekGZmaTRhAve HydPV,chPvRDAFoC!.rVWJfEZZtekj PxbAPOZDeO,DvG!VLMJV,pcAobCuq.oIb.oJRXpIZUQOCWUCZDypYy.bKJ!lf,jYR FJYlskZUy\t128\t0:00:00.450037\n",
      "peuMFCVqbyngQ,N sHkvKmFVnJoIEXnekGZmaTRhAve HydPV,chPvRDAFoC!.rVWJfEZZtekj PxbAPOZDeO,DvG!VLMJV,pcAobCuq.oIb.oJRXprZUQOCWUCZDypYy.bKJ!lf,jYR FJYlskZUy\t129\t0:00:00.461117\n",
      "peuMFCVqbyngQ,N sHkvKmFVnJoIEXnekGZmaTRhAve HydPV,chPvRDAFoC!.rVWJfEZZtekj PxbAPOZDeO,DvG!VLMJV,pcAobCuq.oIb.oJRXprZUQOCWUCZDypYy.bKJ!lf,jYR FJYlskZUf\t130\t0:00:00.479361\n",
      "peuMFCVqbyngQ,N sHkvKmFVnJoIEXnekGZmaTRhAvegHydPV,chPvRDAFoC!.rVWJfEZZtekj PxbAPOZDeO,DvG!VLMJV,pcAobCuq.oIb.oJRXprZUQOCWUCZDypYy.bKJ!lf,jYR FJYlskZUf\t131\t0:00:00.488583\n",
      "peuMFCVqbyngQ,N sHkvKmFVnJoIEXnekGZmaTRhAvegHydPV,chPvRDAFoC!.rVWJfEZZtekj PxbAPOZDeO,DvG!VLMJV,pcAobCuq.oIb.oJRXprtUQOCWUCZDypYy.bKJ!lf,jYR FJYlskZUf\t132\t0:00:00.521458\n",
      "peuMFCVqbyngQ,N sHkvKmFVnJoIEXnekGZmaTRhAvegHGdPV,chPvRDAFoC!.rVWJfEZZtekj PxbAPOZDeO,DvG!VLMJV,pcAobCuq.oIb.oJRXprtUQOCWUCZDypYy.bKJ!lf,jYR FJYlskZUf\t133\t0:00:00.530855\n",
      "peuMFCVqbyngQ,N sHkvKmFVnJoIEXnekGZmaTRhAvegHGdPV,chPvRDAFoC!.rVWJfEZZtekj PxbAPOZDeO,DvG!VLMJV,pcAobCuq.oIb.oJRXprtUIOCWUCZDypYy.bKJ!lf,jYR FJYlskZUf\t134\t0:00:00.560071\n",
      "peuMFCVqbyngQ,N sHkvKmFVnJoIEXnekGZmaTRhAvegHGdPV,chPvRDAFoC!.rVWJfEZZtekj PxbAPOZDeO,DvG!VLMJV,pcAobCuq.oIb.FJRXprtUIOCWUCZDypYy.bKJ!lf,jYR FJYlskZUf\t135\t0:00:00.574716\n",
      "peuMFCVqbyngQ,N sHkvKmFVnJoIEXnekGZmaTRhAvegHGdPV,chPvRDAFoC!.rVSJfEZZtekj PxbAPOZDeO,DvG!VLMJV,pcAobCuq.oIb.FJRXprtUIOCWUCZDypYy.bKJ!lf,jYR FJYlskZUf\t136\t0:00:00.583446\n",
      "peuMFCVqbyngQ,N sHkvKmFVnJoIEXnekGZmaTRhAvegHGdPV,chPvRDAFoC!.rVSJfEZZtekj PxbAPOZDeO,DvG!VLMJV,pcAobCuq.oIb.FJRXprtUIOCWUCZDypYy.bKJ!Wf,jYR FJYlskZUf\t137\t0:00:00.587560\n",
      "peuMFCVqbyngQ,N sHkvKmFVnJoIEXnekGZmaTRhAvegHGdPV,chPvRDAFoC!.rVSJfEZZtekj PxbAPOZDeO,DvG!VLMJV,pcAobCuq.oIb.FJRXprtUIOCWUCZDypYy.bKJ!Wf,jYRUFJYlskZUf\t138\t0:00:00.589826\n",
      "peuMFCVqbyngQ,N sHkvKmFVnJoIEXnekGZmaTRhAvegHGdPV,chPvRDAFoCR.rVSJfEZZtekj PxbAPOZDeO,DvG!VLMJV,pcAobCuq.oIb.FJRXprtUIOCWUCZDypYy.bKJ!Wf,jYRUFJYlskZUf\t139\t0:00:00.631608\n",
      "peuMFCVqbyngQ,N sHkvKmFVnJoIEXnekGZmaTRhAvegHGdPV,chPvRDAFoCR.rVSJfEZZtekj PxbAPOZDeO,DvG!VLMJV,JcAobCuq.oIb.FJRXprtUIOCWUCZDypYy.bKJ!Wf,jYRUFJYlskZUf\t140\t0:00:00.646527\n"
     ]
    },
    {
     "name": "stdout",
     "output_type": "stream",
     "text": [
      "peuMFCVqbyngQ,N sHkvKmFVnJoIEXnekGZmaTRhAvegHGdPV,chPvRDAFoCR.rVSJfEZZteks PxbAPOZDeO,DvG!VLMJV,JcAobCuq.oIb.FJRXprtUIOCWUCZDypYy.bKJ!Wf,jYRUFJYlskZUf\t141\t0:00:00.673438\n",
      "peuMFCVqbyngQ,N sHkvwmFVnJoIEXnekGZmaTRhAvegHGdPV,chPvRDAFoCR.rVSJfEZZteks PxbAPOZDeO,DvG!VLMJV,JcAobCuq.oIb.FJRXprtUIOCWUCZDypYy.bKJ!Wf,jYRUFJYlskZUf\t142\t0:00:00.680050\n",
      "pMuMFCVqbyngQ,N sHkvwmFVnJoIEXnekGZmaTRhAvegHGdPV,chPvRDAFoCR.rVSJfEZZteks PxbAPOZDeO,DvG!VLMJV,JcAobCuq.oIb.FJRXprtUIOCWUCZDypYy.bKJ!Wf,jYRUFJYlskZUf\t143\t0:00:00.705641\n",
      "pMuMFCVqbyngQ,N sHkvwmFVnJoIEXnekGZmaTRhAvegHGdPV,chPvRDAFoCR.rVSJfEZZteks PxbAPOZDeO,DvG!VLMJV,JcAobCuq.oIb.FJRXprtUIOCWUCZDypYy.bKJ!Wf,jYmUFJYlskZUf\t144\t0:00:00.778755\n",
      "pMuMFCVqbyngQ,N sHkvwmFVnJoIEXnekGZmaTRhAvegHGdPV,chPvRDAzoCR.rVSJfEZZteks PxbAPOZDeO,DvG!VLMJV,JcAobCuq.oIb.FJRXprtUIOCWUCZDypYy.bKJ!Wf,jYmUFJYlskZUf\t145\t0:00:00.792191\n",
      "pMuMFCVqbyngQ,N sHkvwmFVnJoIEXnekGZmaTRhAvegHGdPV,chPvRDAzoCR.rVSJfEZZtQks PxbAPOZDeO,DvG!VLMJV,JcAobCuq.oIb.FJRXprtUIOCWUCZDypYy.bKJ!Wf,jYmUFJYlskZUf\t146\t0:00:00.837856\n",
      "pMuMFCVqbyngQ,N sHkvwmFVnJoIEXnekGZmaTRhAvegHGdPV,chPvRDAzoCR.rVSJfEZZtQks PxbAPOZDeO,DvG!VLMJV,JcAobCuq.oDb.FJRXprtUIOCWUCZDypYy.bKJ!Wf,jYmUFJYlskZUf\t147\t0:00:00.840435\n",
      "pMuMFCVqbyngQ,N sHkvwmFVnJoIEXnekGZmaTRhAvegHGdPV,chPvRDAzoCR.rVSJfEZZtQks PxpAPOZDeO,DvG!VLMJV,JcAobCuq.oDb.FJRXprtUIOCWUCZDypYy.bKJ!Wf,jYmUFJYlskZUf\t148\t0:00:00.889678\n",
      "pMuMFCVqbyngQ,N sHkvwmFVnJoIEXnekGZmaTRhAvegHGdPV,chPvRDAzoAR.rVSJfEZZtQks PxpAPOZDeO,DvG!VLMJV,JcAobCuq.oDb.FJRXprtUIOCWUCZDypYy.bKJ!Wf,jYmUFJYlskZUf\t149\t0:00:00.916286\n",
      "pMuMFCVjbyngQ,N sHkvwmFVnJoIEXnekGZmaTRhAvegHGdPV,chPvRDAzoAR.rVSJfEZZtQks PxpAPOZDeO,DvG!VLMJV,JcAobCuq.oDb.FJRXprtUIOCWUCZDypYy.bKJ!Wf,jYmUFJYlskZUf\t150\t0:00:01.160386\n"
     ]
    }
   ],
   "source": [
    "teste.test_Random()"
   ]
  },
  {
   "cell_type": "code",
   "execution_count": 6,
   "metadata": {},
   "outputs": [
    {
     "name": "stdout",
     "output_type": "stream",
     "text": [
      "1 0.84 0.00\n",
      "2 1.15 0.00\n",
      "3 1.01 0.39\n",
      "4 0.91 0.37\n",
      "5 0.90 0.33\n",
      "6 0.88 0.29\n",
      "7 0.86 0.27\n",
      "8 0.91 0.28\n",
      "9 0.90 0.26\n",
      "10 0.87 0.26\n",
      "20 0.83 0.21\n",
      "30 0.85 0.21\n",
      "40 0.84 0.19\n",
      "50 0.83 0.19\n",
      "60 0.83 0.19\n",
      "70 0.82 0.18\n",
      "80 0.82 0.18\n",
      "90 0.83 0.18\n",
      "100 0.84 0.18\n"
     ]
    }
   ],
   "source": [
    "teste.test_benchmark()"
   ]
  },
  {
   "cell_type": "code",
   "execution_count": null,
   "metadata": {},
   "outputs": [],
   "source": []
  }
 ],
 "metadata": {
  "kernelspec": {
   "display_name": "Python 3",
   "language": "python",
   "name": "python3"
  },
  "language_info": {
   "codemirror_mode": {
    "name": "ipython",
    "version": 3
   },
   "file_extension": ".py",
   "mimetype": "text/x-python",
   "name": "python",
   "nbconvert_exporter": "python",
   "pygments_lexer": "ipython3",
   "version": "3.7.1"
  }
 },
 "nbformat": 4,
 "nbformat_minor": 2
}
