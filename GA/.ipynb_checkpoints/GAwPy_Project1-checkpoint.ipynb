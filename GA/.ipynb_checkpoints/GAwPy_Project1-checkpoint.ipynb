{
 "cells": [
  {
   "cell_type": "markdown",
   "metadata": {},
   "source": [
    "# First Program: guess passwaord.\n",
    "\n",
    "- Based in boobk: Genetic Algorithms with Python, Clinton Sheppard (2018).\n"
   ]
  },
  {
   "cell_type": "code",
   "execution_count": null,
   "metadata": {},
   "outputs": [],
   "source": [
    "import random\n",
    "import datetime"
   ]
  },
  {
   "cell_type": "code",
   "execution_count": null,
   "metadata": {},
   "outputs": [],
   "source": [
    "geneSet = \" abcdefghijklmnopqrstuvwxyzABCDEFGHIJKLMNOPQRSTUVWXYZ!.\"\n",
    "target = \"Hello World!\"\n",
    "sizeTarget = len(target)"
   ]
  },
  {
   "cell_type": "code",
   "execution_count": null,
   "metadata": {},
   "outputs": [],
   "source": [
    "\n",
    "def generate_parent(length):\n",
    "    genes = []\n",
    "    while len(genes) < length:\n",
    "        sampleSize = min(length - len(genes), len(geneSet))\n",
    "        genes.extend(random.sample(geneSet, sampleSize))\n",
    "    return \"\".join(genes)\n",
    "\n",
    "\n",
    "def get_fitness(guess):\n",
    "    return sum(1 for expected, actual in zip(target, guess)\n",
    "        if expected == actual)\n",
    "\n"
   ]
  },
  {
   "cell_type": "code",
   "execution_count": null,
   "metadata": {},
   "outputs": [],
   "source": [
    "guess = generate_parent(sizeTarget)\n",
    "print(\"Target: \"+target)\n",
    "print(\"Guess: \"+guess)\n",
    "print(\"How many matchs: {}\".format(sum(1 for expected, actual in zip(target, guess) if expected == actual)))"
   ]
  },
  {
   "cell_type": "code",
   "execution_count": null,
   "metadata": {},
   "outputs": [],
   "source": [
    "\n",
    "def mutate(parent):\n",
    "    index = random.randrange(0, len(parent))\n",
    "    childGenes = list(parent)\n",
    "    newGene, alternate = random.sample(geneSet, 2)\n",
    "    childGenes[index] = alternate if newGene == childGenes[index] else newGene\n",
    "    return \"\".join(childGenes)   \n"
   ]
  },
  {
   "cell_type": "code",
   "execution_count": null,
   "metadata": {},
   "outputs": [],
   "source": [
    "print(\"Guess : \"+guess)\n",
    "print(\"Mutant: \"+mutate(guess))"
   ]
  },
  {
   "cell_type": "code",
   "execution_count": null,
   "metadata": {},
   "outputs": [],
   "source": [
    "def display(guess):\n",
    "    timeDiff = datetime.datetime.now() - startTime\n",
    "    fitness = get_fitness(guess)\n",
    "    print(\"{0}\\t{1}\\t{2}\".format(guess, fitness, str(timeDiff)))"
   ]
  },
  {
   "cell_type": "code",
   "execution_count": null,
   "metadata": {},
   "outputs": [],
   "source": [
    "random.seed()\n",
    "startTime = datetime.datetime.now()\n",
    "bestParent = generate_parent(len(target))\n",
    "bestFitness = get_fitness(bestParent)\n",
    "display(bestParent)\n",
    "while True:\n",
    "    child = mutate(bestParent)\n",
    "    childFitness = get_fitness(child)\n",
    "    if bestFitness >= childFitness:\n",
    "        continue\n",
    "    display(child)\n",
    "    if childFitness >= len(bestParent):\n",
    "        break\n",
    "    bestFitness = childFitness\n",
    "    bestParent = child"
   ]
  },
  {
   "cell_type": "code",
   "execution_count": null,
   "metadata": {},
   "outputs": [],
   "source": []
  },
  {
   "cell_type": "code",
   "execution_count": 1,
   "metadata": {},
   "outputs": [],
   "source": [
    "import guessPassword\n",
    "from guessPassword import *"
   ]
  },
  {
   "cell_type": "code",
   "execution_count": 2,
   "metadata": {},
   "outputs": [],
   "source": [
    "teste = GuessPassword()"
   ]
  },
  {
   "cell_type": "code",
   "execution_count": 3,
   "metadata": {},
   "outputs": [
    {
     "name": "stdout",
     "output_type": "stream",
     "text": [
      "mMsYQvA!eoTk\t0\t0:00:00.001235\n",
      "mMsYQvW!eoTk\t1\t0:00:00.002738\n",
      "mMlYQvW!eoTk\t2\t0:00:00.004715\n",
      "mMlYQvWoeoTk\t3\t0:00:00.005525\n",
      "mMlYQvWoeoT!\t4\t0:00:00.007028\n",
      "HMlYQvWoeoT!\t5\t0:00:00.009140\n",
      "HelYQvWoeoT!\t6\t0:00:00.010498\n",
      "HelYQ WoeoT!\t7\t0:00:00.017770\n",
      "HelYQ WoelT!\t8\t0:00:00.028384\n",
      "HellQ WoelT!\t9\t0:00:00.046488\n",
      "Hello WoelT!\t10\t0:00:00.053801\n",
      "Hello Woeld!\t11\t0:00:00.118987\n",
      "Hello World!\t12\t0:00:00.127230\n"
     ]
    }
   ],
   "source": [
    "teste.test_Hello_World()"
   ]
  },
  {
   "cell_type": "code",
   "execution_count": 4,
   "metadata": {},
   "outputs": [
    {
     "name": "stdout",
     "output_type": "stream",
     "text": [
      "CJWAtxEyauSFoGPwZDRL,rN!OXKlqMcvH UiTf.V\t0\t0:00:00.001457\n",
      "CJWAtxEyauSFoGPwZDRL,rN!oXKlqMcvH UiTf.V\t1\t0:00:00.003388\n",
      "CJWAtxEyauSFoGPwZDRa,rN!oXKlqMcvH UiTf.V\t2\t0:00:00.004688\n",
      "CJWAtxEyauSFoGPwZDRanrN!oXKlqMcvH UiTf.V\t3\t0:00:00.009112\n",
      "CJWAtxEy uSFoGPwZDRanrN!oXKlqMcvH UiTf.V\t4\t0:00:00.009967\n",
      "CJWAtxEy uSFoGPwZDRanrN!onKlqMcvH UiTf.V\t5\t0:00:00.016782\n",
      "CJWAtxEy uSFoGPwZDRanrN!ondlqMcvH UiTf.V\t6\t0:00:00.018970\n",
      "CJWAtxEy uSFoGPwZDRanrN!ondlqMcvH UmTf.V\t7\t0:00:00.021680\n",
      "CJWAtxEy uSaoGPwZDRanrN!ondlqMcvH UmTf.V\t8\t0:00:00.022009\n",
      "FJWAtxEy uSaoGPwZDRanrN!ondlqMcvH UmTf.V\t9\t0:00:00.026441\n",
      "FJWAtxEy uSaoGPwZDRanrN!ondeqMcvH UmTf.V\t10\t0:00:00.032359\n",
      "FJWAtxEm uSaoGPwZDRanrN!ondeqMcvH UmTf.V\t11\t0:00:00.036570\n",
      "FJWAtxEm uSaoGPwZDRanrN!onderMcvH UmTf.V\t12\t0:00:00.049940\n",
      "FJWAtxEm uSarGPwZDRanrN!onderMcvH UmTf.V\t13\t0:00:00.052224\n",
      "FJW txEm uSarGPwZDRanrN!onderMcvH UmTf.V\t14\t0:00:00.073539\n",
      "FJW txEm uSarGPwZDRanr !onderMcvH UmTf.V\t15\t0:00:00.079001\n",
      "FJr txEm uSarGPwZDRanr !onderMcvH UmTf.V\t16\t0:00:00.080997\n",
      "FJr txEm uSarGPwZDRanr wonderMcvH UmTf.V\t17\t0:00:00.088176\n",
      "FJr txEm uSarGPwlDRanr wonderMcvH UmTf.V\t18\t0:00:00.088320\n",
      "FJr txEm uSarGPwlDRanr wonderMcvH UmTf..\t19\t0:00:00.092668\n",
      "FJr txam uSarGPwlDRanr wonderMcvH UmTf..\t20\t0:00:00.093779\n",
      "FJr txam uSarGPwlDRanr wonderMcvHyUmTf..\t21\t0:00:00.094440\n",
      "FJr txam uSarGPwlD anr wonderMcvHyUmTf..\t22\t0:00:00.095811\n",
      "FJr txam uSarGPwlD anr wonderfcvHyUmTf..\t23\t0:00:00.098740\n",
      "FJr txam uSarGPwlD anr wonderfclHyUmTf..\t24\t0:00:00.099040\n",
      "FJr txam uSarfPwlD anr wonderfclHyUmTf..\t25\t0:00:00.099696\n",
      "FJr txam uSarfPwlD anr wonderfclHy mTf..\t26\t0:00:00.100187\n",
      "FJr txam uSarfPwlD anr wonderfclly mTf..\t27\t0:00:00.100699\n",
      "FJr txam uSarfPllD anr wonderfclly mTf..\t28\t0:00:00.106986\n",
      "FJr txam uSarfPllD anr wonderfclly mTd..\t29\t0:00:00.108501\n",
      "FJr txam uearfPllD anr wonderfclly mTd..\t30\t0:00:00.109103\n",
      "FJr txam uearfPllD anr wonderfully mTd..\t31\t0:00:00.111980\n",
      "FJr Ixam uearfPllD anr wonderfully mTd..\t32\t0:00:00.114869\n",
      "FJr Ixam uearfPllD and wonderfully mTd..\t33\t0:00:00.116329\n",
      "FJr Ixam uearfullD and wonderfully mTd..\t34\t0:00:00.118176\n",
      "FJr Ixam uearfully and wonderfully mTd..\t35\t0:00:00.122657\n",
      "FJr Ixam fearfully and wonderfully mTd..\t36\t0:00:00.123305\n",
      "FJr Ixam fearfully and wonderfully mTde.\t37\t0:00:00.128851\n",
      "FJr I am fearfully and wonderfully mTde.\t38\t0:00:00.133452\n",
      "FJr I am fearfully and wonderfully made.\t39\t0:00:00.154447\n",
      "For I am fearfully and wonderfully made.\t40\t0:00:00.166232\n"
     ]
    }
   ],
   "source": [
    "teste.test_For_I_am_fearfully_and_wonderfully_made()"
   ]
  },
  {
   "cell_type": "code",
   "execution_count": 5,
   "metadata": {},
   "outputs": [
    {
     "name": "stdout",
     "output_type": "stream",
     "text": [
      "HDgxi,GBZbQTRJWUqMsOElAN!YytLShVa p.wrPdcnjCfvuFKoeXmkIzYCdwtEKHBZfyQxTbmgRF lprOqhUeviz,jNSAnJsIP!uDcVMkaG.WXoL M!iVYZrlGCfsXyQHS.wOjKNFWgkaqhocJdzeu\t1\t0:00:00.002220\n",
      "HDgxi,GBZbQTRJWUqMsOElAN!YytLShVa p.wrPdcnjCfvuFKoeXmkIzYCdwtEKHBZfyQxTbmgRF lprOqhUeviz,jNSAnJsIP!uDcVMkaG.WXoL M!iVYZrlGCfsXyQHS.wOjKNFWgkaqmocJdzeu\t2\t0:00:00.005323\n",
      "HDgxi,GBZbQTRJWUqMsOElAN!YytLShVa p.wrPdcnjCfvuFKoeXmkIzYCdwtEKHBZfyQxTbmgRF lprOqhUevVz,jNSAnJsIP!uDcVMkaG.WXoL M!iVYZrlGCfsXyQHS.wOjKNFWgkaqmocJdzeu\t3\t0:00:00.016102\n",
      "HDgxi,GBZbQTRJWUqMsOElAN!YytLShVa p.wrPdcnjCfvuFKoeXmkIzYCdwtEKHBZfyQxTbmgRF lprOqhUevVz,jNSAnJsIP!uDcVMkaG.WXoL M!iVYZrlGCfsXyQHS.wOjKNFMgkaqmocJdzeu\t4\t0:00:00.021501\n",
      "HDgxi,GBZbQTRJWUqMsOElAN!YytLShVa p.wrPdcnjCfvZFKoeXmkIzYCdwtEKHBZfyQxTbmgRF lprOqhUevVz,jNSAnJsIP!uDcVMkaG.WXoL M!iVYZrlGCfsXyQHS.wOjKNFMgkaqmocJdzeu\t5\t0:00:00.033811\n",
      "HDgxi,GBZbQTRJWUqMsOElAN!YytLShVa p.wrPdcnjCfvZFYoeXmkIzYCdwtEKHBZfyQxTbmgRF lprOqhUevVz,jNSAnJsIP!uDcVMkaG.WXoL M!iVYZrlGCfsXyQHS.wOjKNFMgkaqmocJdzeu\t6\t0:00:00.044150\n",
      "HDgxi,GBZbQTRJWUqMsOElAN!YytLShVa p.wrPdcnjCfvZFYoeXmkIzYCdwtEKHZZfyQxTbmgRF lprOqhUevVz,jNSAnJsIP!uDcVMkaG.WXoL M!iVYZrlGCfsXyQHS.wOjKNFMgkaqmocJdzeu\t7\t0:00:00.051293\n",
      "HDgxi,GBZbQTRJWUqMsOElAN!YytLShVa p.wrPdcnjCfvZFYoeXmkIzYCdwtEKHZZfyQxTbmgRF lprOqhUevVz,jNSAnJsIPIuDcVMkaG.WXoL M!iVYZrlGCfsXyQHS.wOjKNFMgkaqmocJdzeu\t8\t0:00:00.058583\n",
      "HDgxi,GBZbQTRJWUqMsOElAN!YytLShVa p.wrPdcnjCfvZFYoeXmkIzYCdwtEKHZZfyQxTbmgRF lprOqhUevVz,jNSAnJsIPIuDcVMkaG.WXoL M!iVYZrlGCfsXyDHS.wOjKNFMgkaqmocJdzeu\t9\t0:00:00.093313\n",
      "HDgxi,GBZbQTRJWUqMsOElAN!YytLShVa p.wrPdcnjCfvZFYoXXmkIzYCdwtEKHZZfyQxTbmgRF lprOqhUevVz,jNSAnJsIPIuDcVMkaG.WXoL M!iVYZrlGCfsXyDHS.wOjKNFMgkaqmocJdzeu\t10\t0:00:00.095964\n",
      "HDgxi,GBZbQTRJWUqMsOElAN!YytLShVa p.wrPdcnjCfvZFYoXXmkIzYCdwtEKHZZfyQxTbmgMF lprOqhUevVz,jNSAnJsIPIuDcVMkaG.WXoL M!iVYZrlGCfsXyDHS.wOjKNFMgkaqmocJdzeu\t11\t0:00:00.102528\n",
      "HDgxi,GBZbQTRJWUqMsOElAN!YytLShVa p.wrPdcnjCfvZFYoXXmkIzYCdwtEKHZZfyQxTbmcMF lprOqhUevVz,jNSAnJsIPIuDcVMkaG.WXoL M!iVYZrlGCfsXyDHS.wOjKNFMgkaqmocJdzeu\t12\t0:00:00.111653\n",
      "HDgxi,GBZbQTRJWUqMsOElAN!YytLShVa p.wrPdcnjCfvZFYoXXmkIzYCdwtEKHZZfyQxTbmcMF lprOqhUevVz,jNSAnJsIPIuDcVMkaG.WXoL M!iVYZrlGCfsXyDHS.wOjKNFMgkHqmocJdzeu\t13\t0:00:00.119636\n",
      "HDgxi,hBZbQTRJWUqMsOElAN!YytLShVa p.wrPdcnjCfvZFYoXXmkIzYCdwtEKHZZfyQxTbmcMF lprOqhUevVz,jNSAnJsIPIuDcVMkaG.WXoL M!iVYZrlGCfsXyDHS.wOjKNFMgkHqmocJdzeu\t14\t0:00:00.122348\n",
      "HDgxi,hBZbQTRJWUqMsOElAN!YytLShVa p.wrPdcnjCfvZFYoXXmkIzYCdwtEKHZZfyQxTbmcMF lprOqhUevVz,jNSAnJsIPIuDcVMkaG.WXoL M!iVYZrlGCfsXyDHS.wOjKNFMgkHqmocMdzeu\t15\t0:00:00.124061\n",
      "HDgxi,hBZbQTRJWUqMsOElAN!YytLShVa p.wrPdcnjCfvZFYoXXmkIzYCdwtEKrZZfyQxTbmcMF lprOqhUevVz,jNSAnJsIPIuDcVMkaG.WXoL M!iVYZrlGCfsXyDHS.wOjKNFMgkHqmocMdzeu\t16\t0:00:00.125292\n",
      "HDgxi,hBZbQTRJWUqMsOElAN!YytLShVa p.wrPdcnjCfvZFYoXXmkIzYCdwtEKrZZfyQxTbmcMF lprOqhUevVz,jNSAnJsIPIuDcVMkaG.WXoL M!iVYZrlGCfs.yDHS.wOjKNFMgkHqmocMdzeu\t17\t0:00:00.126172\n",
      "HDgxi,hBZbQTRJWUpMsOElAN!YytLShVa p.wrPdcnjCfvZFYoXXmkIzYCdwtEKrZZfyQxTbmcMF lprOqhUevVz,jNSAnJsIPIuDcVMkaG.WXoL M!iVYZrlGCfs.yDHS.wOjKNFMgkHqmocMdzeu\t18\t0:00:00.126322\n",
      "HDgxi,hBZbQTRJWUpMsOElAN!YytLShVa p.wrPdcnjCfvZFYoXXmkIzYCdvtEKrZZfyQxTbmcMF lprOqhUevVz,jNSAnJsIPIuDcVMkaG.WXoL M!iVYZrlGCfs.yDHS.wOjKNFMgkHqmocMdzeu\t19\t0:00:00.126631\n",
      "HDgxi,hBZbQTRJWUpMsOElAN!YytLShVa p.wrPdcnjCfvZFYoXXmkIzYCdvtEKrZZfyQxTbmcMF lprOqhUevVz,jNSAnJsIPIuDcVMkaG.WXoL M!iVYZrlGCfs.yDHS.wOjKNFMzkHqmocMdzeu\t20\t0:00:00.128492\n",
      "HDgxi,hBZbQTRJWUpMsOElAN!YytLShVa p.wrPdcnjCfvZFYoXXmkIzYCdvtEKrZZuyQxTbmcMF lprOqhUevVz,jNSAnJsIPIuDcVMkaG.WXoL M!iVYZrlGCfs.yDHS.wOjKNFMzkHqmocMdzeu\t21\t0:00:00.131032\n",
      "HDgxi,hBZbQTRJWUpMsOElAN!YytLShVa p.wrPdcnjCfJZFYoXXmkIzYCdvtEKrZZuyQxTbmcMF lprOqhUevVz,jNSAnJsIPIuDcVMkaG.WXoL M!iVYZrlGCfs.yDHS.wOjKNFMzkHqmocMdzeu\t22\t0:00:00.132413\n",
      "HDgxi,hBZbQTRJWUpMsOElAN!YytLShVa p.wrPdcnjCfJZFYoXXmkIzYCbvtEKrZZuyQxTbmcMF lprOqhUevVz,jNSAnJsIPIuDcVMkaG.WXoL M!iVYZrlGCfs.yDHS.wOjKNFMzkHqmocMdzeu\t23\t0:00:00.133246\n",
      "HDgxi,hBZbQTRJWUpMsOElAN!YytLShVa p.wrPdcnjCfJZFYoXXmkIzYCbvtEKrZZuyQxTbmcMF lprOqhUevVz,jNSAnJsIPIuDcVMkaG.WXoL M!iVYZrlGCfs.yDHS.wOjKNFMzkHqmpcMdzeu\t24\t0:00:00.135396\n",
      "HDgxi,hBZbQTRJWUpMsOElAN!YytLShVa p.wrPdcnjCfJZFYoXXmkIzYCbvtEKrZZuyQxTbmcMF lprOqhUevVz,jNSAnJsIPIuDcVMkaG.WXoL M!iVYZrlGCfs.yDHSpwOjKNFMzkHqmpcMdzeu\t25\t0:00:00.135560\n",
      "HDgxi,hBZbQTRJWUpMsOElAN!YytLShVa p.wrPdcnjCfJZFYoXXmkIzYCbvtEKrZZuyQxTbmcMF lprOqhUevVz,jNSAnJsIPIuDcVMkaG.WmoL M!iVYZrlGCfs.yDHSpwOjKNFMzkHqmpcMdzeu\t26\t0:00:00.135825\n",
      "HDgxi,hBZbQTRJWUpMsOElAN!YytLShVa p.wrPdcnjCfJZFYoXXmkIzYCbvGEKrZZuyQxTbmcMF lprOqhUevVz,jNSAnJsIPIuDcVMkaG.WmoL M!iVYZrlGCfs.yDHSpwOjKNFMzkHqmpcMdzeu\t27\t0:00:00.137185\n",
      "HDgxi,hBZbQTRJWUpMsOElAN!YytLShVa p.wrPdcnjCfJZFYoXXmkIzYCbvGEKrZZuyQxTbmcMF lprOqhUevVz,jNSrnJsIPIuDcVMkaG.WmoL M!iVYZrlGCfs.yDHSpwOjKNFMzkHqmpcMdzeu\t28\t0:00:00.140882\n",
      "HDlxi,hBZbQTRJWUpMsOElAN!YytLShVa p.wrPdcnjCfJZFYoXXmkIzYCbvGEKrZZuyQxTbmcMF lprOqhUevVz,jNSrnJsIPIuDcVMkaG.WmoL M!iVYZrlGCfs.yDHSpwOjKNFMzkHqmpcMdzeu\t29\t0:00:00.141462\n",
      "HDlxi,hBZbQTRJWUpMsOElAN!YytLShVa p.wrPdcnjCfJZFYoXXmkIzYCbvGEKrZZuyQxTbmcMF lprOqhUevVz,jNSrnJsIPIuDcVMkaG.WmoL M!iVYZrlGCfs.yDHBpwOjKNFMzkHqmpcMdzeu\t30\t0:00:00.142634\n",
      "HDlxi,hBZbQTRJWUpMsOElAN!YytLShVa p.wrPdcnjCfJZFYoXXmkIzYCbvGEKrZZuyQxTbmcMF lprOqhUevVz,jNSrnJsIPIuDcVMkaG.WmoL M iVYZrlGCfs.yDHBpwOjKNFMzkHqmpcMdzeu\t31\t0:00:00.142843\n",
      "HDlxi,hSZbQTRJWUpMsOElAN!YytLShVa p.wrPdcnjCfJZFYoXXmkIzYCbvGEKrZZuyQxTbmcMF lprOqhUevVz,jNSrnJsIPIuDcVMkaG.WmoL M iVYZrlGCfs.yDHBpwOjKNFMzkHqmpcMdzeu\t32\t0:00:00.143546\n",
      "HDlxi,hSZbQTRJWUpMsOElAN!YytLShVa p.wrPdcnjCfJZFYoXXmkxzYCbvGEKrZZuyQxTbmcMF lprOqhUevVz,jNSrnJsIPIuDcVMkaG.WmoL M iVYZrlGCfs.yDHBpwOjKNFMzkHqmpcMdzeu\t33\t0:00:00.146437\n",
      "HDlxi,hSZbQTRJWUpMsOElAN!YytLShVa p.wrPdcnjCfJZFYoXXmkxzYCbvGEKrZZuyQxTb.cMF lprOqhUevVz,jNSrnJsIPIuDcVMkaG.WmoL M iVYZrlGCfs.yDHBpwOjKNFMzkHqmpcMdzeu\t34\t0:00:00.146553\n",
      "HDlxi,hSZbQTRUWUpMsOElAN!YytLShVa p.wrPdcnjCfJZFYoXXmkxzYCbvGEKrZZuyQxTb.cMF lprOqhUevVz,jNSrnJsIPIuDcVMkaG.WmoL M iVYZrlGCfs.yDHBpwOjKNFMzkHqmpcMdzeu\t35\t0:00:00.148717\n",
      "HDlxi,hSZbQTRUWUpMsOElAN!YytLSjVa p.wrPdcnjCfJZFYoXXmkxzYCbvGEKrZZuyQxTb.cMF lprOqhUevVz,jNSrnJsIPIuDcVMkaG.WmoL M iVYZrlGCfs.yDHBpwOjKNFMzkHqmpcMdzeu\t36\t0:00:00.149336\n",
      "HDlxi,hSZbQTRUWUpMsOElAN!YytLSjVa p.wrPdcnjCfJZFYoXXmkxzYCbvGEKrZZuyQxTb.cMF lprOqhUnvVz,jNSrnJsIPIuDcVMkaG.WmoL M iVYZrlGCfs.yDHBpwOjKNFMzkHqmpcMdzeu\t37\t0:00:00.149408\n",
      "HDlxi,hSZbQTRUWUpMsOElAN!YytLSjVa p.wrPdcnjCfJZFYoXXmkxzYCbvGEKrZZuyQxTb.cMF lprOqdUnvVz,jNSrnJsIPIuDcVMkaG.WmoL M iVYZrlGCfs.yDHBpwOjKNFMzkHqmpcMdzeu\t38\t0:00:00.149487\n",
      "HDlxi,hSZbQTRUWUpMsOElAN!YytLSjVa p.wrPdcnjCfJZFYoXXmkxzYCbvGEKrZZuyQxTb.cMF lprOqdUnvVz,jNSrnJSIPIuDcVMkaG.WmoL M iVYZrlGCfs.yDHBpwOjKNFMzkHqmpcMdzeu\t39\t0:00:00.152684\n",
      "HDlxi,hSZbQTRUWUpMsOElAN!YytLSjVa p.wrPdcnjCfJZFYoXXmkxzYCbvGEKrZZuyQxTb.cMF lprOqdUnvVz,jNSrnJSIPIuDcVMkaG.WmoL M iVYZrlGCfs.iDHBpwOjKNFMzkHqmpcMdzeu\t40\t0:00:00.153414\n",
      "HDlxi,hSZbQTRUWUpMsOElAN!YytLSjVa p.wrPdKnjCfJZFYoXXmkxzYCbvGEKrZZuyQxTb.cMF lprOqdUnvVz,jNSrnJSIPIuDcVMkaG.WmoL M iVYZrlGCfs.iDHBpwOjKNFMzkHqmpcMdzeu\t41\t0:00:00.154720\n",
      "HDlxi,hSZbQTRUWUpMsOElAN!YytLSjVa p.wrPdKnjCfJZFYoXXmkxzYCbvGEKrZZuyQxTE.cMF lprOqdUnvVz,jNSrnJSIPIuDcVMkaG.WmoL M iVYZrlGCfs.iDHBpwOjKNFMzkHqmpcMdzeu\t42\t0:00:00.155958\n",
      "HDlxi,hSZbQTRUWUpMsOElAN!YytLSjVa p.wrPdKnbCfJZFYoXXmkxzYCbvGEKrZZuyQxTE.cMF lprOqdUnvVz,jNSrnJSIPIuDcVMkaG.WmoL M iVYZrlGCfs.iDHBpwOjKNFMzkHqmpcMdzeu\t43\t0:00:00.157496\n",
      "HDlxi,hSZbQTRUWUpMsOElAN!YyJLSjVa p.wrPdKnbCfJZFYoXXmkxzYCbvGEKrZZuyQxTE.cMF lprOqdUnvVz,jNSrnJSIPIuDcVMkaG.WmoL M iVYZrlGCfs.iDHBpwOjKNFMzkHqmpcMdzeu\t44\t0:00:00.158859\n",
      "HDlxi,hSZbQTRUWUpMsOElAN!YyJLSjVa p.wrPdKnbCfJZFYoXXmkxzYCbvGEKrZZuyQxTE.cMF lprOqdUnvVz,jNSrIJSIPIuDcVMkaG.WmoL M iVYZrlGCfs.iDHBpwOjKNFMzkHqmpcMdzeu\t45\t0:00:00.159199\n",
      "HDlxi,hSZbQTRUWUpMsOElAN!YyJLSjVa p.wrPdKnbCfJZFYoXXmkxzYCbvGEFrZZuyQxTE.cMF lprOqdUnvVz,jNSrIJSIPIuDcVMkaG.WmoL M iVYZrlGCfs.iDHBpwOjKNFMzkHqmpcMdzeu\t46\t0:00:00.164758\n",
      "HDlxi,hSZbQTRUWUpMsOElAN!YyJLSjVa p.wrPdKnbCfJZFYoXXmkxzYCbvGEFrZZuyQxTE.cMn lprOqdUnvVz,jNSrIJSIPIuDcVMkaG.WmoL M iVYZrlGCfs.iDHBpwOjKNFMzkHqmpcMdzeu\t47\t0:00:00.165404\n",
      "HDlxi,hSZbQTRUWUpMsOElAN!YyJLSjVa p.wrPdKnbCfJZFYoXXmkxzYCbvGEFrZZuyQxTE.cMn lprOqdUnvVz,jNSrIJSIPIuDcVMkaG.WmoL M iVYZrlGGfs.iDHBpwOjKNFMzkHqmpcMdzeu\t48\t0:00:00.165670\n",
      "HDlxi,hSZbQTRUWUpMsOElAN!YyJLSjVa p.wrPdKnbCfJZFYoXXmkxzYCbvGEFrZZuyQxDE.cMn lprOqdUnvVz,jNSrIJSIPIuDcVMkaG.WmoL M iVYZrlGGfs.iDHBpwOjKNFMzkHqmpcMdzeu\t49\t0:00:00.167176\n",
      "HDlxi,hSZbQDRUWUpMsOElAN!YyJLSjVa p.wrPdKnbCfJZFYoXXmkxzYCbvGEFrZZuyQxDE.cMn lprOqdUnvVz,jNSrIJSIPIuDcVMkaG.WmoL M iVYZrlGGfs.iDHBpwOjKNFMzkHqmpcMdzeu\t50\t0:00:00.168705\n",
      "HDlxi,hSZbQDRUWUpMsOElAN!YyJLSjVa p.wrPdKnbCfJZFYoXXmkxzYCbvGEFrZZuyQxDE.cMn lprOqdUnvVz,jNSrIJSIPIuDcVMkaG.WmoL M iVYZrlGGfs.iDHBpzOjKNFMzkHqmpcMdzeu\t51\t0:00:00.170365\n",
      "HDlxi,hSZbQDRUWUpMsOElAN!YyJLSjVa p.wrPdKnbCfJZFYoXXmkxzYCbvGEFrZZuyQxDE.cMn lprOqdUnvVz,jNSrIJSIPIuDcVMkaG.WmoL M iVYZrlIGfs.iDHBpzOjKNFMzkHqmpcMdzeu\t52\t0:00:00.171718\n",
      "HDlxi,hSZbQDRUWUpMsOElAN!YyJLSjVa p.wrPdKnbCfJZFYoXXmkxzYCbvGEFrZZuyQxDE.cMn lprOqdUnvVz,jNSrI SIPIuDcVMkaG.WmoL M iVYZrlIGfs.iDHBpzOjKNFMzkHqmpcMdzeu\t53\t0:00:00.172755\n",
      "PDlxi,hSZbQDRUWUpMsOElAN!YyJLSjVa p.wrPdKnbCfJZFYoXXmkxzYCbvGEFrZZuyQxDE.cMn lprOqdUnvVz,jNSrI SIPIuDcVMkaG.WmoL M iVYZrlIGfs.iDHBpzOjKNFMzkHqmpcMdzeu\t54\t0:00:00.173124\n",
      "PDlxi,hSZbQDRUWUpMsOElAN!YyJLSjVa p.wrPdKnbCfJZFYoXXmkxzYCbvGEFrZZuyQxDE.cMn lprSqdUnvVz,jNSrI SIPIuDcVMkaG.WmoL M iVYZrlIGfs.iDHBpzOjKNFMzkHqmpcMdzeu\t55\t0:00:00.175229\n",
      "PDlxi,hSZbQDRUWUpMsOElAN!YyJLSjVa p.wrPdKnbCfJZFYoXXmkxzYCbvGEFrZZuyQxDE.cMn lprSqdUnvVz,jNSrI SIPIuDcVMkaG.WmoL M iVYZrlIGfs.iDHBpzOjKSFMzkHqmpcMdzeu\t56\t0:00:00.176280\n",
      "PDlxi,hSZbQDRUWUpMsOElAN!YyJLSjVa p.wrPdKnbCfJZFYoXXmkxzYCbvGEFrZZuyQxDE.cMn lprSqdUnvVz,jNSrI SIPIuDcVukaG.WmoL M iVYZrlIGfs.iDHBpzOjKSFMzkHqmpcMdzeu\t57\t0:00:00.177959\n",
      "PDlxi,hSZbQDRUWUpMsOElAN!YyJLSjVa p.wrPdKnbCfJZFYoXXmkxzYCbvGEFrZZuyQxDE.cMnIlprSqdUnvVz,jNSrI SIPIuDcVukaG.WmoL M iVYZrlIGfs.iDHBpzOjKSFMzkHqmpcMdzeu\t58\t0:00:00.179326\n",
      "PDlxi,hSZbQDRUWUpMsOElAN!YyJLSjVa p.wKPdKnbCfJZFYoXXmkxzYCbvGEFrZZuyQxDE.cMnIlprSqdUnvVz,jNSrI SIPIuDcVukaG.WmoL M iVYZrlIGfs.iDHBpzOjKSFMzkHqmpcMdzeu\t59\t0:00:00.180447\n",
      "PDlxi,hSZbQDRUWUpMsOElAN!YyJLSjVa p.wKPdKnbCfJZFYoXXmkxzYCbvGEFrZZuyQxDE.cMnIlprSqdUnvVz,jNSrI SIKIuDcVukaG.WmoL M iVYZrlIGfs.iDHBpzOjKSFMzkHqmpcMdzeu\t60\t0:00:00.180485\n",
      "PDlxi,hSZbQDRUWUpMsOElAN!YyJLSjVa p.wKPdKnbHfJZFYoXXmkxzYCbvGEFrZZuyQxDE.cMnIlprSqdUnvVz,jNSrI SIKIuDcVukaG.WmoL M iVYZrlIGfs.iDHBpzOjKSFMzkHqmpcMdzeu\t61\t0:00:00.186631\n",
      "PDlxi,hSZbQDRUWUpMsOElAN!YyJLSjVa p.wKPdKnbHNJZFYoXXmkxzYCbvGEFrZZuyQxDE.cMnIlprSqdUnvVz,jNSrI SIKIuDcVukaG.WmoL M iVYZrlIGfs.iDHBpzOjKSFMzkHqmpcMdzeu\t62\t0:00:00.188901\n",
      "PDlxi,hSZbQDRUWUpMsOElAN!YyJLSjVa p.wKPdKnbHNJZFYoXXmkxzYCbvGEFrZZuyQxDE.cMnIlprSqdUnvVz,jNSrI SIKIuDcVukaG.WmoL M iVYZrlIGfs.iDHBpzOjKSFMzkHvmpcMdzeu\t63\t0:00:00.189764\n",
      "PDlxi,hSZbQDRUWUpMsOEPAN!YyJLSjVa p.wKPdKnbHNJZFYoXXmkxzYCbvGEFrZZuyQxDE.cMnIlprSqdUnvVz,jNSrI SIKIuDcVukaG.WmoL M iVYZrlIGfs.iDHBpzOjKSFMzkHvmpcMdzeu\t64\t0:00:00.189961\n",
      "PDlxi,hSZbQDRUWUpMsOEPAN!YyJLSjVa p.wKPdKnbHNJZFYoXXmkxzYCbvGEFrZZuyQxDE.cMnIlprSqdUnvVz,jNSrI SIKIuDcVukaG.WmoL M iBYZrlIGfs.iDHBpzOjKSFMzkHvmpcMdzeu\t65\t0:00:00.193182\n",
      "PDlxi,hSZbQDRUWUpMs,EPAN!YyJLSjVa p.wKPdKnbHNJZFYoXXmkxzYCbvGEFrZZuyQxDE.cMnIlprSqdUnvVz,jNSrI SIKIuDcVukaG.WmoL M iBYZrlIGfs.iDHBpzOjKSFMzkHvmpcMdzeu\t66\t0:00:00.194744\n",
      "PDlxi,hSCbQDRUWUpMs,EPAN!YyJLSjVa p.wKPdKnbHNJZFYoXXmkxzYCbvGEFrZZuyQxDE.cMnIlprSqdUnvVz,jNSrI SIKIuDcVukaG.WmoL M iBYZrlIGfs.iDHBpzOjKSFMzkHvmpcMdzeu\t67\t0:00:00.199549\n",
      "PDlxi,hSCbQDRUWUpMs,EPAN!YyJLSjVa p.wKPdKnbHNJZFYoXXmkxzYCbvGEFrZZuyQxDE.cMnIlprSqdUnvVz,jNSrI SIKIuDcVukaG.WmoL M iBYZrlIGfs.iDHBpzOjKSFMzMHvmpcMdzeu\t68\t0:00:00.202377\n",
      "PDlxi,hSCMQDRUWUpMs,EPAN!YyJLSjVa p.wKPdKnbHNJZFYoXXmkxzYCbvGEFrZZuyQxDE.cMnIlprSqdUnvVz,jNSrI SIKIuDcVukaG.WmoL M iBYZrlIGfs.iDHBpzOjKSFMzMHvmpcMdzeu\t69\t0:00:00.203384\n",
      "PDlxi,hSCMQDRUWUpMs,EPAN!YyJLSjVa p.wKPdKnbHNJZFYoXXmkxzYCbvGEFrZZuyQxDE.cMnIlprSqdUnvVz,jNSrI SIKIuDcVukaG.WmoL M iBYZAlIGfs.iDHBpzOjKSFMzMHvmpcMdzeu\t70\t0:00:00.203618\n",
      "PDlxi,hSCMQDRUWUpMs,EPAN!YyJLSjVa p.sKPdKnbHNJZFYoXXmkxzYCbvGEFrZZuyQxDE.cMnIlprSqdUnvVz,jNSrI SIKIuDcVukaG.WmoL M iBYZAlIGfs.iDHBpzOjKSFMzMHvmpcMdzeu\t71\t0:00:00.206448\n",
      "PDlxi,hSCMQDRUWUpMs,EPAN!YyJLSjVa p.sKPdKnbHNJZFYoXXmkxzYCbvGEFrZZuyQxDE.cMnIlprSqdUnvVz,jNSrI SIKIuDcVukaG.WmoL M iBYZAlIGfs.iDHBpzOjKSFMzMHvmprMdzeu\t72\t0:00:00.206537\n",
      "PDlxi,hSCMQDRUWUpMs,EPAN!YyJLSjVa p.sKPdKnbHNJZFYoXXmkxzYCbvGEFrZZuyQxDE.cMnIlprSqdUnvVz,jNSrI SIKIuDcVukaG.WmoL a iBYZAlIGfs.iDHBpzOjKSFMzMHvmprMdzeu\t73\t0:00:00.207093\n",
      "PDlxi,hSCMQDRUWUpMs,EPAN!YyJLSjVa p.sKPdKnbHNJZFYoXXmkxzYCbvGEFrZZuyLxDE.cMnIlprSqdUnvVz,jNSrI SIKIuDcVukaG.WmoL a iBYZAlIGfs.iDHBpzOjKSFMzMHvmprMdzeu\t74\t0:00:00.207956\n",
      "PDlxi,hSCMQDRUWUpMs,EPAN!YyJLSjVa p.sKPdKnbHNJZFYoX!mkxzYCbvGEFrZZuyLxDE.cMnIlprSqdUnvVz,jNSrI SIKIuDcVukaG.WmoL a iBYZAlIGfs.iDHBpzOjKSFMzMHvmprMdzeu\t75\t0:00:00.208503\n",
      "PDlxi,hSCMQDRUWUpMs,EPAN!YyJLSjVa p.sKPdKnbHNJZFYoX!mkxzYCbvGEFrZZuyLxDE.cMnIlprSqdUnvVz,jNSrI SIKIuDcVukaG.WmoL a iBYZAlIGfc.iDHBpzOjKSFMzMHvmprMdzeu\t76\t0:00:00.210023\n",
      "PDlVi,hSCMQDRUWUpMs,EPAN!YyJLSjVa p.sKPdKnbHNJZFYoX!mkxzYCbvGEFrZZuyLxDE.cMnIlprSqdUnvVz,jNSrI SIKIuDcVukaG.WmoL a iBYZAlIGfc.iDHBpzOjKSFMzMHvmprMdzeu\t77\t0:00:00.211072\n",
      "PDlVi,hSCMQDRUWUpMs,EPAN!YyJLSjVa p.sKPdKnbHNJZFYoX!mkxzYCbvGEFrZZuyLBDE.cMnIlprSqdUnvVz,jNSrI SIKIuDcVukaG.WmoL a iBYZAlIGfc.iDHBpzOjKSFMzMHvmprMdzeu\t78\t0:00:00.212638\n",
      "PblVi,hSCMQDRUWUpMs,EPAN!YyJLSjVa p.sKPdKnbHNJZFYoX!mkxzYCbvGEFrZZuyLBDE.cMnIlprSqdUnvVz,jNSrI SIKIuDcVukaG.WmoL a iBYZAlIGfc.iDHBpzOjKSFMzMHvmprMdzeu\t79\t0:00:00.216228\n",
      "PblVi,hSCMQDRUWUpMs,EPsN!YyJLSjVa p.sKPdKnbHNJZFYoX!mkxzYCbvGEFrZZuyLBDE.cMnIlprSqdUnvVz,jNSrI SIKIuDcVukaG.WmoL a iBYZAlIGfc.iDHBpzOjKSFMzMHvmprMdzeu\t80\t0:00:00.217369\n",
      "PblVi,hSCMQDoUWUpMs,EPsN!YyJLSjVa p.sKPdKnbHNJZFYoX!mkxzYCbvGEFrZZuyLBDE.cMnIlprSqdUnvVz,jNSrI SIKIuDcVukaG.WmoL a iBYZAlIGfc.iDHBpzOjKSFMzMHvmprMdzeu\t81\t0:00:00.220168\n",
      "PblVi,hSCMQDoUWUpMs,EPsN!YyJMSjVa p.sKPdKnbHNJZFYoX!mkxzYCbvGEFrZZuyLBDE.cMnIlprSqdUnvVz,jNSrI SIKIuDcVukaG.WmoL a iBYZAlIGfc.iDHBpzOjKSFMzMHvmprMdzeu\t82\t0:00:00.223874\n",
      "PblVi,hSCMQDoUWUpMs,EPsN!YyJMSjVa p.sKPdKnbHNJZFYoX!mkxzYCbvGEFrZZuyLBDE.cMnIlprSqdUnvVE,jNSrI SIKIuDcVukaG.WmoL a iBYZAlIGfc.iDHBpzOjKSFMzMHvmprMdzeu\t83\t0:00:00.231769\n",
      "PblVi,hSCMQDoUWUpis,EPsN!YyJMSjVa p.sKPdKnbHNJZFYoX!mkxzYCbvGEFrZZuyLBDE.cMnIlprSqdUnvVE,jNSrI SIKIuDcVukaG.WmoL a iBYZAlIGfc.iDHBpzOjKSFMzMHvmprMdzeu\t84\t0:00:00.232384\n",
      "PblVi,hSCMQDoUWUpis,EPsN!YyJMSjVa p.sKPdKnbHNJZFYoX!mkxzYCbvGEFrZZuyLBDE.cMnIlprSqdUnvVE,jNSrI SIKIuDcVukaG.kmoL a iBYZAlIGfc.iDHBpzOjKSFMzMHvmprMdzeu\t85\t0:00:00.232576\n",
      "PblVi,hSCMQDoUWUpis,EPsN!YyJMijVa p.sKPdKnbHNJZFYoX!mkxzYCbvGEFrZZuyLBDE.cMnIlprSqdUnvVE,jNSrI SIKIuDcVukaG.kmoL a iBYZAlIGfc.iDHBpzOjKSFMzMHvmprMdzeu\t86\t0:00:00.236932\n",
      "PblVi,hSCMQDoUWUpis,EPsN!YyJMijVa p.sKLdKnbHNJZFYoX!mkxzYCbvGEFrZZuyLBDE.cMnIlprSqdUnvVE,jNSrI SIKIuDcVukaG.kmoL a iBYZAlIGfc.iDHBpzOjKSFMzMHvmprMdzeu\t87\t0:00:00.237719\n",
      "PblVi,hSCMQDoUWUpis,EPsN!YyJMijVa p.sKLdKnbHNJZFYoX!mkxzYCbvGEFrZZuyLBDE.cMnIlprSqdUnvVE,jNSrI SIKIuDcVukaG.kmoL a iBYZAlIGfc.iDHBpzOjKSFMzMHvmprMkzeu\t88\t0:00:00.240265\n",
      "PblVi,hSCMQDoUWUpis,EPsN!YyJMijVa p.sKLdKnbHNJZFYoX!mkxzYCbvGEFrZZuyLBDE.cMnIlpCSqdUnvVE,jNSrI SIKIuDcVukaG.kmoL a iBYZAlIGfc.iDHBpzOjKSFMzMHvmprMkzeu\t89\t0:00:00.243283\n",
      "PblVi,hSCMQDoUWUpis,EPsN!YyJMijVa p.sKLdKnbHNJZFYoX!muxzYCbvGEFrZZuyLBDE.cMnIlpCSqdUnvVE,jNSrI SIKIuDcVukaG.kmoL a iBYZAlIGfc.iDHBpzOjKSFMzMHvmprMkzeu\t90\t0:00:00.248548\n",
      "PblVi,hSCMQDoUWUpis,EPsN!YyJMijVa p.sKLdKqbHNJZFYoX!muxzYCbvGEFrZZuyLBDE.cMnIlpCSqdUnvVE,jNSrI SIKIuDcVukaG.kmoL a iBYZAlIGfc.iDHBpzOjKSFMzMHvmprMkzeu\t91\t0:00:00.252823\n",
      "PblVi,hSCMQDoUWbpis,EPsN!YyJMijVa p.sKLdKqbHNJZFYoX!muxzYCbvGEFrZZuyLBDE.cMnIlpCSqdUnvVE,jNSrI SIKIuDcVukaG.kmoL a iBYZAlIGfc.iDHBpzOjKSFMzMHvmprMkzeu\t92\t0:00:00.255405\n",
      "PblVi,hSCMQDoUWbpis,EPsN!YyJMijVa p.sKLdKqbHNJZFYoX!muxzYCbvGEFrZZuyLBDE.cMnIlpCSqdUnvVEdjNSrI SIKIuDcVukaG.kmoL a iBYZAlIGfc.iDHBpzOjKSFMzMHvmprMkzeu\t93\t0:00:00.256721\n"
     ]
    },
    {
     "name": "stdout",
     "output_type": "stream",
     "text": [
      "PblVi,hSCMQDoUWbpis,EPsN!YyJMijVa p.sKLdKqbHNJZFYoX!muxzYCbvGEFrZquyLBDE.cMnIlpCSqdUnvVEdjNSrI SIKIuDcVukaG.kmoL a iBYZAlIGfc.iDHBpzOjKSFMzMHvmprMkzeu\t94\t0:00:00.269083\n",
      "PblViUhSCMQDoUWbpis,EPsN!YyJMijVa p.sKLdKqbHNJZFYoX!muxzYCbvGEFrZquyLBDE.cMnIlpCSqdUnvVEdjNSrI SIKIuDcVukaG.kmoL a iBYZAlIGfc.iDHBpzOjKSFMzMHvmprMkzeu\t95\t0:00:00.272194\n",
      "PblViUhSCMQDoUWbpis,EPsN!YyJMijVa p.sKLdKqbHNJZFYoX!muxzYCbvGEFrZquyLBDE.cMnIlpCSqdUnvVEdjNSrI SIKIuDcVukaG.kmoL a iBYZAlIGfc.iDHBpzOjKSFMzMHvmprMkzGu\t96\t0:00:00.274528\n",
      "PblViUhSCMQDoUWbpif,EPsN!YyJMijVa p.sKLdKqbHNJZFYoX!muxzYCbvGEFrZquyLBDE.cMnIlpCSqdUnvVEdjNSrI SIKIuDcVukaG.kmoL a iBYZAlIGfc.iDHBpzOjKSFMzMHvmprMkzGu\t97\t0:00:00.277137\n",
      "PblViUhSCMQDoUWbpif,EPsN!YDJMijVa p.sKLdKqbHNJZFYoX!muxzYCbvGEFrZquyLBDE.cMnIlpCSqdUnvVEdjNSrI SIKIuDcVukaG.kmoL a iBYZAlIGfc.iDHBpzOjKSFMzMHvmprMkzGu\t98\t0:00:00.283040\n",
      "PblViUhSCMQDoUWbpif,wPsN!YDJMijVa p.sKLdKqbHNJZFYoX!muxzYCbvGEFrZquyLBDE.cMnIlpCSqdUnvVEdjNSrI SIKIuDcVukaG.kmoL a iBYZAlIGfc.iDHBpzOjKSFMzMHvmprMkzGu\t99\t0:00:00.283597\n",
      "PblViUhSCMQDoUWbpif,wPsN!YDJMijVa p.sKLdKqbHNJZFYoX!muxzYYbvGEFrZquyLBDE.cMnIlpCSqdUnvVEdjNSrI SIKIuDcVukaG.kmoL a iBYZAlIGfc.iDHBpzOjKSFMzMHvmprMkzGu\t100\t0:00:00.283749\n",
      "PblViUhSCMQDoUWbpif,wPsN!YDJMijVa p.sKLLKqbHNJZFYoX!muxzYYbvGEFrZquyLBDE.cMnIlpCSqdUnvVEdjNSrI SIKIuDcVukaG.kmoL a iBYZAlIGfc.iDHBpzOjKSFMzMHvmprMkzGu\t101\t0:00:00.292342\n",
      "PblViUhSCMQDoUNbpif,wPsN!YDJMijVa p.sKLLKqbHNJZFYoX!muxzYYbvGEFrZquyLBDE.cMnIlpCSqdUnvVEdjNSrI SIKIuDcVukaG.kmoL a iBYZAlIGfc.iDHBpzOjKSFMzMHvmprMkzGu\t102\t0:00:00.292592\n",
      "PblViUhSCMQDoUNbpif,wPsN!YDJMijVa p.sKLLKqbHNJZFYoX!muxHYYbvGEFrZquyLBDE.cMnIlpCSqdUnvVEdjNSrI SIKIuDcVukaG.kmoL a iBYZAlIGfc.iDHBpzOjKSFMzMHvmprMkzGu\t103\t0:00:00.294196\n",
      "PblViUhSCMQDoUNbpif,wPsN!YDJMijVa p.sKLLKqbHNJZFYoX!muxHYYbvGEFrZquyLBDE.cMnIjpCSqdUnvVEdjNSrI SIKIuDcVukaG.kmoL a iBYZAlIGfc.iDHBpzOjKSFMzMHvmprMkzGu\t104\t0:00:00.299947\n",
      "PblVzUhSCMQDoUNbpif,wPsN!YDJMijVa p.sKLLKqbHNJZFYoX!muxHYYbvGEFrZquyLBDE.cMnIjpCSqdUnvVEdjNSrI SIKIuDcVukaG.kmoL a iBYZAlIGfc.iDHBpzOjKSFMzMHvmprMkzGu\t105\t0:00:00.302340\n",
      "PblVzUhSCMQDoUNbpif,wPsN!YDJMijVa p.sKLLKqbHNJZFYoX!muxHYYbvGEFrZquyLBDE.cMnIjpCSqdUnvVEdjNSrI SIKIuDcVukaG.kmoL a iBSZAlIGfc.iDHBpzOjKSFMzMHvmprMkzGu\t106\t0:00:00.303344\n",
      "PblVzUhSCMQDoUNbpif,wPsN!YDJMijVa p.sKLLKqbHNJZFYoX!muxHYYbvGEFrZquyLBDE.cMnIjpCSqdUnvVEdjNSrI SIKIuDcVukaGBkmoL a iBSZAlIGfc.iDHBpzOjKSFMzMHvmprMkzGu\t107\t0:00:00.303903\n",
      "PblVzUhSCMQDoUNbpif,wPsN!YDJMijVa p.sKLLKqbHNJZFYoX!muxHlYbvGEFrZquyLBDE.cMnIjpCSqdUnvVEdjNSrI SIKIuDcVukaGBkmoL a iBSZAlIGfc.iDHBpzOjKSFMzMHvmprMkzGu\t108\t0:00:00.304407\n",
      "PblVzUhSCMQDoUNbpif,wPsN!YDJMijVa p.sKLLKqbHNJZFYoX!muxHlYbvGEFrZquyLBDE.cMnIjpCSqdUnvVEdjNSrI SIKIuDcVukaGBkmoL a iBSZAnIGfc.iDHBpzOjKSFMzMHvmprMkzGu\t109\t0:00:00.307665\n",
      "PblVzUhSCMQDoUNbpif,wPsN!YDJMijVa p.sKLLKqbHNJZFYoX!muxHlYbvGEFrZquyLBDE.cMnIjpCSqdUnvVEdjNSrI SIKIuDcVukaGBkmoL a iBSZAnIGfc.iDHBpzOjpSFMzMHvmprMkzGu\t110\t0:00:00.310832\n",
      "PblVzUhSCMQDoUNbpif,wPsN!YDJMijVa p.sKLLKqbHNJZFYoX!muxHlYbvGEFrZquyLBDE.cMnIjpCSqdUnvVEdjNSrI SIKIuDcVukaGBkmoL a iBSZAnIGfc.iDHBpzdjpSFMzMHvmprMkzGu\t111\t0:00:00.317358\n",
      "PblVzUhSCMQDoUNbpif,wPsN!YDJMijVa p.sKLLKqbHNJZFYoX!muxHlYbvGEFrZquyLBDE.cMnIjpCSqdUnvVEdjNSrI SIKIuDcVukaGBkmoL a iBSZAnIGfc.iDHBpzdBpSFMzMHvmprMkzGu\t112\t0:00:00.318318\n",
      "PblVzUhSCMQDoUNbpif,wPsN!YDJMijVa p.sKLLKqbHNJZFYoX!muxHlYbvGEFrZquyLBDE.cMnIjpCSqdUnvVEdjNSrI SIKInDcVukaGBkmoL a iBSZAnIGfc.iDHBpzdBpSFMzMHvmprMkzGu\t113\t0:00:00.319977\n",
      "PblVzUhSCMQDoUNbpif,wPsN!YDJMijVa p.sKLLKqbHNJZFYoX!muxHlYbvGEFrZquyLBDE.cMnIjpCSqdUnvVEdjNSrI SIKInDcVukaGBkmoL a iBSZAnIGfc.iDHBpzdBpSFMzMHvmprMkzGN\t114\t0:00:00.324149\n",
      "PblVzUhSCMQDoUNbpif,wPsN!YDJMijVa p.sKLLKqbHNJZFYoX!muxHlYbvGEFrZquyLBDE.cMnIjpCSUdUnvVEdjNSrI SIKInDcVukaGBkmoL a iBSZAnIGfc.iDHBpzdBpSFMzMHvmprMkzGN\t115\t0:00:00.326738\n",
      "PblVzUhSCMQDoUNbpif,wPsN!YDJMijVa p.sKLLKqbHNJZFYoX!muxHlYbvGEFrZquyLBDE.cMnIjpCSUdUnvVEdjNSrI SIKInDcVukaGBkmBL a iBSZAnIGfc.iDHBpzdBpSFMzMHvmprMkzGN\t116\t0:00:00.336940\n",
      "PblVzUhSCMQDoUNbpif,wPsN!YDJMijVz p.sKLLKqbHNJZFYoX!muxHlYbvGEFrZquyLBDE.cMnIjpCSUdUnvVEdjNSrI SIKInDcVukaGBkmBL a iBSZAnIGfc.iDHBpzdBpSFMzMHvmprMkzGN\t117\t0:00:00.362786\n",
      "PblVzUhSCMQDoUNbpif,wPsN!YDJMijVz p.sKLLKqbHNJZFYoX!muxHlYbvGEFrZquyLBDE.cMnIjpCSUdUnvVEdjNSrI SIKInDcVukaGBkmBL a WBSZAnIGfc.iDHBpzdBpSFMzMHvmprMkzGN\t118\t0:00:00.374902\n",
      "PblVzUhSCMQDoUNbpif,wPsN!YDJMijVz pFsKLLKqbHNJZFYoX!muxHlYbvGEFrZquyLBDE.cMnIjpCSUdUnvVEdjNSrI SIKInDcVukaGBkmBL a WBSZAnIGfc.iDHBpzdBpSFMzMHvmprMkzGN\t119\t0:00:00.378602\n",
      "PblVzUhSCMQDoUNbpif,wPsN!YDJMijkz pFsKLLKqbHNJZFYoX!muxHlYbvGEFrZquyLBDE.cMnIjpCSUdUnvVEdjNSrI SIKInDcVukaGBkmBL a WBSZAnIGfc.iDHBpzdBpSFMzMHvmprMkzGN\t120\t0:00:00.388809\n",
      "PblVzUhSCMQDoUNbpif,wPsN!YDJMijkz pFsKLLKqbHNJZFYoX!muxHlYbvGEFrZquyLBDE.cMnIjpCSUdUnvVEdjNSrI SIKInDcVukaGBkmBLOa WBSZAnIGfc.iDHBpzdBpSFMzMHvmprMkzGN\t121\t0:00:00.390454\n",
      "PblVzUhSCMQDoUNbpif,wPsN!YDJMijkz pFsKLLKqbHNJZFYoX!muxHlYbvGEFrZquyLBDE.cMnIjpCSUdUnvVEdjNSrI SIKInDcVukaGBkmBLOa WBSZAnIGfc.iDHBpzdBpS!MzMHvmprMkzGN\t122\t0:00:00.393739\n",
      "PblVzUhSCMQDoUNbpif,wPsN!YDJMijkz pFsKLLKqbHNJZFYcX!muxHlYbvGEFrZquyLBDE.cMnIjpCSUdUnvVEdjNSrI SIKInDcVukaGBkmBLOa WBSZAnIGfc.iDHBpzdBpS!MzMHvmprMkzGN\t123\t0:00:00.407617\n",
      "PblVzUhSCMQDoUNbpif,wPsN!YDJMijkz pFsKLLKqbHNJZwYcX!muxHlYbvGEFrZquyLBDE.cMnIjpCSUdUnvVEdjNSrI SIKInDcVukaGBkmBLOa WBSZAnIGfc.iDHBpzdBpS!MzMHvmprMkzGN\t124\t0:00:00.429614\n",
      "PblVzUhSCMQDoUNbpif,wPsN!YDJMijkz pFsKLLKqbHNJZwYcX!muxHlYbvGEFrZquyLBDE.cMnIjpCSUdUnvVEdjsSrI SIKInDcVukaGBkmBLOa WBSZAnIGfc.iDHBpzdBpS!MzMHvmprMkzGN\t125\t0:00:00.433110\n",
      "PblVzUhSCMQDoUNbpif,wPsN!YDJMijkz pFsKLLKqbHNJZwYcX!muxHlYbvGEFrZquyLBDE.cMnIjpCSUdUnvVEdjsSrI SIKInDcVukaGBkmBLOa WBSZAnIGRc.iDHBpzdBpS!MzMHvmprMkzGN\t126\t0:00:00.439286\n",
      "PblVzUhSCMQDoUNbpif,wPsN!YDJMijkz pFsKLLKqbHNJZwYcX!muxHlYbvGEFrZquyLBDE.cMnIjpCSUdUnvVEdjsSrI SIKInDcVukjGBkmBLOa WBSZAnIGRc.iDHBpzdBpS!MzMHvmprMkzGN\t127\t0:00:00.449281\n",
      "PblVzUhSCMQDoUNbpif,wPsN!YDJMijkz pFsKLLKqbHNJZwYcX!muxHlYbvGEFrZquyLBDE.cMnIjpCSUdUnvVEdjsSrI SIKInpcVukjGBkmBLOa WBSZAnIGRc.iDHBpzdBpS!MzMHvmprMkzGN\t128\t0:00:00.451917\n",
      "PblVzUhSCMQDoUNbpif,wPsN!YDJMijkz pFsKLLKqbHNJZwYcX!muxHlYbvGEFrZquyLBDE.cMnIjpCSUdUnvVEdjsgrI SIKInpcVukjGBkmBLOa WBSZAnIGRc.iDHBpzdBpS!MzMHvmprMkzGN\t129\t0:00:00.452632\n",
      "PblVzUhSCMQDoUNbpif,wPsN!YDJMijkz pFsKLLKqbHNJZwYcX!muxHlYbvGEFrZquyLBDE.cMnIjpCSUdUnvVEdjsgrI SIKInpcgukjGBkmBLOa WBSZAnIGRc.iDHBpzdBpS!MzMHvmprMkzGN\t130\t0:00:00.456290\n",
      "PblVzUhSCMQDoUNbpif,wPsN!YDJMijkz pFsKLLKqbHNJZwYcX!muxHlYbvGEFrZquyLBDE.cMnIjpCSUdUnvVEdjsgrI SIKInpNgukjGBkmBLOa WBSZAnIGRc.iDHBpzdBpS!MzMHvmprMkzGN\t131\t0:00:00.478596\n",
      "PblVzUhSCMQDoUNbpif,wPsN!RDJMijkz pFsKLLKqbHNJZwYcX!muxHlYbvGEFrZquyLBDE.cMnIjpCSUdUnvVEdjsgrI SIKInpNgukjGBkmBLOa WBSZAnIGRc.iDHBpzdBpS!MzMHvmprMkzGN\t132\t0:00:00.484833\n",
      "PblVzUhSCMQDoUNbpif,wPsN!RDJMijkz pFsKLLKqbHNJZwYcX!muxHlYbvGEFrZquyLBDE.cMnIjpCSUdLnvVEdjsgrI SIKInpNgukjGBkmBLOa WBSZAnIGRc.iDHBpzdBpS!MzMHvmprMkzGN\t133\t0:00:00.488958\n",
      "PblVzUhSCMQDoUNbpif,wPsN!RDJMijkz pFsKLLKqbHNJZwYcX!muxHlYbvGEFrZquyLBDE.cMnIjpCSUdLnqVEdjsgrI SIKInpNgukjGBkmBLOa WBSZAnIGRc.iDHBpzdBpS!MzMHvmprMkzGN\t134\t0:00:00.513158\n",
      "PblVzUhSCMQDoUNbpif,wPsI!RDJMijkz pFsKLLKqbHNJZwYcX!muxHlYbvGEFrZquyLBDE.cMnIjpCSUdLnqVEdjsgrI SIKInpNgukjGBkmBLOa WBSZAnIGRc.iDHBpzdBpS!MzMHvmprMkzGN\t135\t0:00:00.513958\n",
      "PblVzUhSCMQDoUNbpif,wPsI!RDJMijkz pFsKLLKqbHNJZwYcX!muxHlYbvGjFrZquyLBDE.cMnIjpCSUdLnqVEdjsgrI SIKInpNgukjGBkmBLOa WBSZAnIGRc.iDHBpzdBpS!MzMHvmprMkzGN\t136\t0:00:00.518791\n",
      "PblVzUhSCMQDoUNbpif,wPsI!RDJMijkz pFsKLLKqbHNJZwYcX!muxHlYbvGjFrZquyLBDE.cMnIjpCSUdLnqVEdrsgrI SIKInpNgukjGBkmBLOa WBSZAnIGRc.iDHBpzdBpS!MzMHvmprMkzGN\t137\t0:00:00.528869\n",
      "PblVzUhSCMQDoUNbpif,wPsI!RDJMijkz pFsKLLKqbHNJZwYcX!muxHlYbvGjFrZquyLBDE.cMnIjpCSUdLnqVEdrsgrI SIKInpNgukjGBkmBHOa WBSZAnIGRc.iDHBpzdBpS!MzMHvmprMkzGN\t138\t0:00:00.530813\n",
      "PblVzUhSCMQDoUNbpif,wPsI!RDJMijkz pFsKLLKqbHNJZwYcX!muxHlYbvGjFrZquyLBDE.cMnIjpCSUdLnqVEdrsgrI SIKInpNgukjGBkmBHOa WBSjAnIGRc.iDHBpzdBpS!MzMHvmprMkzGN\t139\t0:00:00.537296\n",
      "PblVzUhSCMQDoUNbpif,wPsI!RDJMijkz pFsKLLKqbHNJZwYcX!muxHlYbvGjFrZquyLBDE.cMnIjpCSUdLnqVEdrsgrI SIKInpNgu jGBkmBHOa WBSjAnIGRc.iDHBpzdBpS!MzMHvmprMkzGN\t140\t0:00:00.581801\n",
      "PblVzUhSCMQDoUNbpif,wPsI!RDJMijkz pFsKLLKqbHNJZwYcX!muxHlYbvGjFrZquyLBDE.cMnIjpCSUdLnqVEdrsgrI SIKInpNgu jGBkmBHOa WBSjAnIGRc.iDHBpzdBpS!MzMHvmprMkJGN\t141\t0:00:00.604779\n",
      "PblVzUhSCMQDoUNbpif,wPsI!RDJMijkz CFsKLLKqbHNJZwYcX!muxHlYbvGjFrZquyLBDE.cMnIjpCSUdLnqVEdrsgrI SIKInpNgu jGBkmBHOa WBSjAnIGRc.iDHBpzdBpS!MzMHvmprMkJGN\t142\t0:00:00.608675\n",
      "PblVzUhSCMQDoUNbpif,wPsI!RDJMijkz CFsKLLKqbHNJZwYcX!muxHlYbvGjFrZquyLBDE.cMnIjECSUdLnqVEdrsgrI SIKInpNgu jGBkmBHOa WBSjAnIGRc.iDHBpzdBpS!MzMHvmprMkJGN\t143\t0:00:00.644352\n",
      "PblVzUhSCMQDoUNbpif,wPsI!RDJMijkz CFsKLLKqbHNJZwYcX!ouxHlYbvGjFrZquyLBDE.cMnIjECSUdLnqVEdrsgrI SIKInpNgu jGBkmBHOa WBSjAnIGRc.iDHBpzdBpS!MzMHvmprMkJGN\t144\t0:00:00.664070\n",
      "PblVzUhSCMQDoUNbpif,wPsI!RDJMijkz CFsKLLKqbHNJZwYcX!ouxHlYbvGjFrZquyLBDE.cMnIjECSUdLnqVEdrsgrI SIKInpNgu jGBkmBHOa WBSjAnIGRc.iDNBpzdBpS!MzMHvmprMkJGN\t145\t0:00:00.672394\n",
      "PblVzUhSCMQDoUNbpif,wPsIQRDJMijkz CFsKLLKqbHNJZwYcX!ouxHlYbvGjFrZquyLBDE.cMnIjECSUdLnqVEdrsgrI SIKInpNgu jGBkmBHOa WBSjAnIGRc.iDNBpzdBpS!MzMHvmprMkJGN\t146\t0:00:00.726530\n",
      "PblVzUhSCMQDoUNbpif,wPsIQRDJMijkz CFsKLLKqbHNJZwYcX!ouxHlYbvGjFrZqucLBDE.cMnIjECSUdLnqVEdrsgrI SIKInpNgu jGBkmBHOa WBSjAnIGRc.iDNBpzdBpS!MzMHvmprMkJGN\t147\t0:00:00.745159\n",
      "PblVzUhSCMQDoUNbpif,wPsIQRDJMijkz CFsKLLKqbHNJZwYcX!ouxHlYbvGjFrZqucLBDE.cMnIjECSUdLnqVEdrsgrI SIKInpNgu jnBkmBHOa WBSjAnIGRc.iDNBpzdBpS!MzMHvmprMkJGN\t148\t0:00:00.777738\n"
     ]
    },
    {
     "name": "stdout",
     "output_type": "stream",
     "text": [
      "PblVzUhSCMQDoUNbpif,wPsIQRDJMijkz CFsKLLKqbHNJZwYcX!ouxHlYbvGjFrZqucLBDE.cMnIjECSUdLnqVEdrsgrI S.KInpNgu jnBkmBHOa WBSjAnIGRc.iDNBpzdBpS!MzMHvmprMkJGN\t149\t0:00:00.874397\n",
      "PblVzUhSCM.DoUNbpif,wPsIQRDJMijkz CFsKLLKqbHNJZwYcX!ouxHlYbvGjFrZqucLBDE.cMnIjECSUdLnqVEdrsgrI S.KInpNgu jnBkmBHOa WBSjAnIGRc.iDNBpzdBpS!MzMHvmprMkJGN\t150\t0:00:00.917972\n"
     ]
    }
   ],
   "source": [
    "teste.test_Random()"
   ]
  },
  {
   "cell_type": "code",
   "execution_count": 6,
   "metadata": {},
   "outputs": [
    {
     "name": "stdout",
     "output_type": "stream",
     "text": [
      "1 0.79 0.00\n",
      "2 1.03 0.00\n",
      "3 0.94 0.29\n",
      "4 0.98 0.25\n",
      "5 0.95 0.22\n",
      "6 0.91 0.23\n",
      "7 0.92 0.21\n",
      "8 0.92 0.20\n",
      "9 0.92 0.19\n",
      "10 0.91 0.18\n",
      "20 0.92 0.18\n",
      "30 0.89 0.19\n",
      "40 0.87 0.20\n",
      "50 0.85 0.19\n",
      "60 0.84 0.18\n",
      "70 0.84 0.20\n",
      "80 0.84 0.20\n",
      "90 0.85 0.20\n",
      "100 0.83 0.20\n"
     ]
    }
   ],
   "source": [
    "teste.test_benchmark()"
   ]
  }
 ],
 "metadata": {
  "kernelspec": {
   "display_name": "Python 3",
   "language": "python",
   "name": "python3"
  },
  "language_info": {
   "codemirror_mode": {
    "name": "ipython",
    "version": 3
   },
   "file_extension": ".py",
   "mimetype": "text/x-python",
   "name": "python",
   "nbconvert_exporter": "python",
   "pygments_lexer": "ipython3",
   "version": "3.7.1"
  }
 },
 "nbformat": 4,
 "nbformat_minor": 2
}
