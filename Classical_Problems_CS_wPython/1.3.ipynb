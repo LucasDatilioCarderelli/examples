{
 "cells": [
  {
   "cell_type": "code",
   "execution_count": 26,
   "metadata": {},
   "outputs": [],
   "source": [
    "from secrets import token_bytes\n",
    "from typing import Tuple"
   ]
  },
  {
   "cell_type": "code",
   "execution_count": 2,
   "metadata": {},
   "outputs": [],
   "source": [
    "def random_key(length: int) -> int:\n",
    "    return int.from_bytes(token_bytes(length), \"big\")"
   ]
  },
  {
   "cell_type": "code",
   "execution_count": 109,
   "metadata": {},
   "outputs": [
    {
     "data": {
      "text/plain": [
       "8710762202992935429"
      ]
     },
     "execution_count": 109,
     "metadata": {},
     "output_type": "execute_result"
    }
   ],
   "source": [
    "random_key(8)"
   ]
  },
  {
   "cell_type": "code",
   "execution_count": 118,
   "metadata": {},
   "outputs": [],
   "source": [
    "def encrypt(original: str) -> Tuple[int, int]:\n",
    "    original_key = int.from_bytes(original.encode(), \"big\")\n",
    "    dummy = random_key(len(original.encode()))\n",
    "    return dummy, original_key ^ dummy"
   ]
  },
  {
   "cell_type": "code",
   "execution_count": 119,
   "metadata": {},
   "outputs": [],
   "source": [
    "dummy, crypted_key = encrypt('May the force be with you.')"
   ]
  },
  {
   "cell_type": "code",
   "execution_count": 120,
   "metadata": {},
   "outputs": [
    {
     "data": {
      "text/plain": [
       "99111268627542193616723663452549663474796199442296296654237211"
      ]
     },
     "execution_count": 120,
     "metadata": {},
     "output_type": "execute_result"
    }
   ],
   "source": [
    "dummy"
   ]
  },
  {
   "cell_type": "code",
   "execution_count": 121,
   "metadata": {},
   "outputs": [
    {
     "data": {
      "text/plain": [
       "181258745797921930841106874327707072253450218748371021005888309"
      ]
     },
     "execution_count": 121,
     "metadata": {},
     "output_type": "execute_result"
    }
   ],
   "source": [
    "crypted_key"
   ]
  },
  {
   "cell_type": "code",
   "execution_count": 122,
   "metadata": {},
   "outputs": [],
   "source": [
    "def decrypt(key1: int, key2: int) -> str:\n",
    "    decrypted = key1 ^ key2\n",
    "    tmp = decrypted.to_bytes((decrypted.bit_length()+7) // 8, \"big\")\n",
    "    return tmp.decode()"
   ]
  },
  {
   "cell_type": "code",
   "execution_count": 128,
   "metadata": {},
   "outputs": [
    {
     "data": {
      "text/plain": [
       "'May the force be with you.'"
      ]
     },
     "execution_count": 128,
     "metadata": {},
     "output_type": "execute_result"
    }
   ],
   "source": [
    "decrypt(dummy,crypted_key)"
   ]
  },
  {
   "cell_type": "code",
   "execution_count": 129,
   "metadata": {},
   "outputs": [],
   "source": [
    "text = '''\n",
    "In brightest day, in blackest night,\n",
    "No evil shall escape my sight\n",
    "Let those who worship evil's might,\n",
    "Beware my power...Green Lantern's light!\n",
    "                        (Hal Jordan)\n",
    "'''"
   ]
  },
  {
   "cell_type": "code",
   "execution_count": 130,
   "metadata": {},
   "outputs": [
    {
     "name": "stdout",
     "output_type": "stream",
     "text": [
      "\n",
      "In brightest day, in blackest night,\n",
      "No evil shall escape my sight\n",
      "Let those who worship evil's might,\n",
      "Beware my power...Green Lantern's light!\n",
      "                        (Hal Jordan)\n",
      "\n"
     ]
    }
   ],
   "source": [
    "print(text)"
   ]
  },
  {
   "cell_type": "code",
   "execution_count": 131,
   "metadata": {},
   "outputs": [
    {
     "name": "stdout",
     "output_type": "stream",
     "text": [
      "dummy = 1505812876890824099066400871493482154482680128183805148454764562157917173787547571923208261832298493808375506312265023441683747710474735065083932052200092701680592392162254292321174217120039266135759269028669096131487257520846055311678080301883163148469575773097478472636762143145580521436686192768555869814947129892697095912844931821345498651703261861184241994670761201557416766009420289836009701115690971674140441419482917819250652018169\n",
      "\n",
      "crypted_key = 1581532155829860676356648607049179895772809005949678108377619770075615502591097034751158289087868652755251870626233079886510000572017947679049374139114552126364568216682998205768084439885523093034661391673607314809014234843294926904635237900357476028339542290788227171439657858077496704616297844501038202805498253927373104296776272809042945872222617741882487619675117746932953464245259923684551627500873263097881655982509564820505707863283\n"
     ]
    }
   ],
   "source": [
    "dummy, crypted_key = encrypt(text)\n",
    "print('dummy = '+str(dummy))\n",
    "print('\\ncrypted_key = '+str(crypted_key))"
   ]
  },
  {
   "cell_type": "code",
   "execution_count": 133,
   "metadata": {},
   "outputs": [
    {
     "name": "stdout",
     "output_type": "stream",
     "text": [
      "\n",
      "In brightest day, in blackest night,\n",
      "No evil shall escape my sight\n",
      "Let those who worship evil's might,\n",
      "Beware my power...Green Lantern's light!\n",
      "                        (Hal Jordan)\n",
      "\n"
     ]
    }
   ],
   "source": [
    "print(decrypt(dummy,crypted_key))"
   ]
  },
  {
   "cell_type": "code",
   "execution_count": null,
   "metadata": {},
   "outputs": [],
   "source": []
  }
 ],
 "metadata": {
  "kernelspec": {
   "display_name": "Python 3",
   "language": "python",
   "name": "python3"
  },
  "language_info": {
   "codemirror_mode": {
    "name": "ipython",
    "version": 3
   },
   "file_extension": ".py",
   "mimetype": "text/x-python",
   "name": "python",
   "nbconvert_exporter": "python",
   "pygments_lexer": "ipython3",
   "version": "3.7.5"
  }
 },
 "nbformat": 4,
 "nbformat_minor": 2
}
