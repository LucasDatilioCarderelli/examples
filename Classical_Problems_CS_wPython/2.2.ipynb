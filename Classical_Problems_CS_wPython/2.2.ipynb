{
 "cells": [
  {
   "cell_type": "code",
   "execution_count": 2,
   "metadata": {},
   "outputs": [],
   "source": [
    "from enum import Enum\n",
    "from typing import List, NamedTuple, Callable, Optional\n",
    "from random import uniform\n",
    "from math import sqrt\n",
    "#from generic_search import dfs, bfs, node2path, Astar, Node"
   ]
  },
  {
   "cell_type": "code",
   "execution_count": 3,
   "metadata": {},
   "outputs": [],
   "source": [
    "class Cell(str, Enum):\n",
    "    EMPTY = \" \"\n",
    "    BLOCKED = \"X\"\n",
    "    START = \"S\"\n",
    "    GOAL = \"G\"\n",
    "    PATH = \"*\""
   ]
  },
  {
   "cell_type": "code",
   "execution_count": 4,
   "metadata": {},
   "outputs": [],
   "source": [
    "class MazeLocation(NamedTuple):\n",
    "    row: int\n",
    "    column: int"
   ]
  },
  {
   "cell_type": "code",
   "execution_count": 98,
   "metadata": {},
   "outputs": [],
   "source": [
    "class Maze:\n",
    "    def __init__(self, rows = 10, columns = 10, sparseness = 0.2, \\\n",
    "                 start = MazeLocation(0,0), goal = MazeLocation(9,9)):\n",
    "        self._rows = rows\n",
    "        self._columns = columns\n",
    "        self.goal = goal\n",
    "        self.start = start\n",
    "        self._grid = [[Cell.EMPTY for _ in range(columns)] for _ in range(rows)]\n",
    "        self._randomly_fill(rows, columns, sparseness)\n",
    "        self._grid[start.row][start.column] = Cell.START\n",
    "        self._grid[goal.row][goal.column] = Cell.GOAL\n",
    "        \n",
    "    def _randomly_fill(self, rows: int, columns: int, sparseness: float):\n",
    "        for row in range(rows):\n",
    "            for column in range(columns):\n",
    "                if uniform(0,1.0) < sparseness:\n",
    "                    self._grid[row][column] = Cell.BLOCKED\n",
    "    \n",
    "    def ShowGrid(self):\n",
    "        out = \"@  \"+\"\".join([str(c)+\" \" for c in range(self._columns)]) +\"\\n\"\n",
    "        r = 0\n",
    "        for row in self._grid:\n",
    "            out += str(r)+\" |\"+\"|\".join([c.value for c in row]) + \"|\\n  |{}\\n\".format(\"\".join([\"-|\"]*self._columns))\n",
    "            r += 1\n",
    "        return out\n",
    "    \n",
    "    def __str__(self):\n",
    "        out = \"\"\n",
    "        for row in self._grid:\n",
    "            out += \"\".join([c.value for c in row]) + \"\\n\"\n",
    "        return out\n",
    "    \n",
    "    def goal_test(self, ml: MazeLocation) -> bool:\n",
    "        return ml == self.goal\n",
    "    \n",
    "    def successors(self, ml: MazeLocation) -> List[MazeLocation]:\n",
    "        locations = []\n",
    "        if ((ml.row + 1) < self._rows) and (self._grid[ml.row + 1][ml.column] != Cell.BLOCKED):\n",
    "            locations.append(MazeLocation(ml.row + 1, ml.column))\n",
    "        if ((ml.row - 1) >= 0) and (self._grid[ml.row - 1][ml.column] != Cell.BLOCKED):\n",
    "            locations.append(MazeLocation(ml.row - 1, ml.column))\n",
    "        if ((ml.column + 1) < self._columns) and (self._grid[ml.row][ml.column + 1] != Cell.BLOCKED):\n",
    "            locations.append(MazeLocation(ml.row, ml.column + 1))\n",
    "        if ((ml.column - 1) >= 0) and (self._grid[ml.row][ml.column - 1] != Cell.BLOCKED):\n",
    "            locations.append(MazeLocation(ml.row, ml.column - 1))\n",
    "        return locations"
   ]
  },
  {
   "cell_type": "code",
   "execution_count": 99,
   "metadata": {},
   "outputs": [
    {
     "name": "stdout",
     "output_type": "stream",
     "text": [
      "S    X   X\n",
      "   X      \n",
      "     XXXX \n",
      "          \n",
      " XX X     \n",
      "   X      \n",
      "      XX  \n",
      " X  X  X  \n",
      "  XX    X \n",
      "    X    G\n",
      "\n",
      "@  0 1 2 3 4 5 6 7 8 9 \n",
      "0 |S| | | | |X| | | |X|\n",
      "  |-|-|-|-|-|-|-|-|-|-|\n",
      "1 | | | |X| | | | | | |\n",
      "  |-|-|-|-|-|-|-|-|-|-|\n",
      "2 | | | | | |X|X|X|X| |\n",
      "  |-|-|-|-|-|-|-|-|-|-|\n",
      "3 | | | | | | | | | | |\n",
      "  |-|-|-|-|-|-|-|-|-|-|\n",
      "4 | |X|X| |X| | | | | |\n",
      "  |-|-|-|-|-|-|-|-|-|-|\n",
      "5 | | | |X| | | | | | |\n",
      "  |-|-|-|-|-|-|-|-|-|-|\n",
      "6 | | | | | | |X|X| | |\n",
      "  |-|-|-|-|-|-|-|-|-|-|\n",
      "7 | |X| | |X| | |X| | |\n",
      "  |-|-|-|-|-|-|-|-|-|-|\n",
      "8 | | |X|X| | | | |X| |\n",
      "  |-|-|-|-|-|-|-|-|-|-|\n",
      "9 | | | | |X| | | | |G|\n",
      "  |-|-|-|-|-|-|-|-|-|-|\n",
      "\n"
     ]
    }
   ],
   "source": [
    "maze = Maze()\n",
    "print(maze)\n",
    "print(maze.ShowGrid())"
   ]
  },
  {
   "cell_type": "code",
   "execution_count": 100,
   "metadata": {},
   "outputs": [
    {
     "data": {
      "text/plain": [
       "[MazeLocation(row=9, column=7), MazeLocation(row=8, column=6)]"
      ]
     },
     "execution_count": 100,
     "metadata": {},
     "output_type": "execute_result"
    }
   ],
   "source": [
    "maze.successors(MazeLocation(8,7))"
   ]
  },
  {
   "cell_type": "code",
   "execution_count": null,
   "metadata": {},
   "outputs": [],
   "source": []
  }
 ],
 "metadata": {
  "kernelspec": {
   "display_name": "Python 3",
   "language": "python",
   "name": "python3"
  },
  "language_info": {
   "codemirror_mode": {
    "name": "ipython",
    "version": 3
   },
   "file_extension": ".py",
   "mimetype": "text/x-python",
   "name": "python",
   "nbconvert_exporter": "python",
   "pygments_lexer": "ipython3",
   "version": "3.7.5"
  }
 },
 "nbformat": 4,
 "nbformat_minor": 2
}
