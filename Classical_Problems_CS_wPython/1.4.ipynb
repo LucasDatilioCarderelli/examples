{
 "cells": [
  {
   "cell_type": "code",
   "execution_count": 26,
   "metadata": {},
   "outputs": [],
   "source": [
    "%load_ext watermark"
   ]
  },
  {
   "cell_type": "code",
   "execution_count": 1,
   "metadata": {},
   "outputs": [],
   "source": [
    "from typing import Generator, List\n",
    "from tqdm import tqdm\n",
    "import numpy as np\n",
    "import math"
   ]
  },
  {
   "cell_type": "code",
   "execution_count": 27,
   "metadata": {},
   "outputs": [
    {
     "name": "stdout",
     "output_type": "stream",
     "text": [
      "2020-06-08T15:20:01+00:00\n",
      "\n",
      "CPython 3.7.7\n",
      "IPython 7.15.0\n",
      "\n",
      "compiler   : GCC 8.3.0\n",
      "system     : Linux\n",
      "release    : 4.19.76-linuxkit\n",
      "machine    : x86_64\n",
      "processor  : \n",
      "CPU cores  : 16\n",
      "interpreter: 64bit\n",
      "numpy     1.18.5\n",
      "cufflinks 0.17.3\n",
      "pandas    1.0.4\n",
      "\n",
      "Git hash: 12e0b4df45c897b9f5b19611ad0960eb1195be19\n",
      "Git repo: https://github.com/ysraell/examples.git\n",
      "Git branch: master\n"
     ]
    }
   ],
   "source": [
    "# Run this cell before close.\n",
    "%watermark\n",
    "%watermark --iversion\n",
    "%watermark -b -r -g"
   ]
  },
  {
   "cell_type": "code",
   "execution_count": 2,
   "metadata": {},
   "outputs": [
    {
     "data": {
      "text/plain": [
       "3.141592653589793"
      ]
     },
     "execution_count": 2,
     "metadata": {},
     "output_type": "execute_result"
    }
   ],
   "source": [
    "math.pi"
   ]
  },
  {
   "cell_type": "code",
   "execution_count": 3,
   "metadata": {},
   "outputs": [],
   "source": [
    "N = 20000000"
   ]
  },
  {
   "cell_type": "markdown",
   "metadata": {},
   "source": [
    "### From the book:"
   ]
  },
  {
   "cell_type": "code",
   "execution_count": 4,
   "metadata": {},
   "outputs": [],
   "source": [
    "def calulate_pi(N: int) -> float:\n",
    "    sign = 1\n",
    "    pi = 0\n",
    "    for d in range(1,2*N,2):\n",
    "        pi += sign*4/d\n",
    "        sign *= -1\n",
    "        yield pi"
   ]
  },
  {
   "cell_type": "markdown",
   "metadata": {},
   "source": [
    "### A Monte Carlo way.\n",
    "\n",
    "You could approximate the $\\pi$ number using the ration between the areas for a square ($A_\\square$) and the concentric circle ($A_\\circ$):\n",
    "$$\\frac{A_\\circ}{A_\\square} = \\frac{\\pi r^2}{(2r)^2} = \\frac{\\pi \\not{r^2}~}{4\\not{r^2}~} = \\frac{\\pi}{4} ~~~\\therefore~~~\\pi = 4\\frac{A_\\circ}{A_\\square}$$\n",
    "Using a Monte Carlo way, you could generate randomly numbers between $-1$ and $1$ (I suggest a uniform distribution) and count all points generated ($N$) as the total points inside the square ($N_\\square$) centered in $\\left (0,0 \\right )$ and for the points inside the circle ($N_\\circ$) only the points that satisfy the fallow statment:\n",
    "$$x^2 + y^2 \\leq 1 $$\n",
    "Basicaly, you could approximate the ration between the areas using the ration between the total points inside:\n",
    "$$\\frac{A_\\circ}{A_\\square} \\approx \\frac{N_\\circ}{N_\\square}$$\n",
    "In fact:\n",
    "$$ \\lim_{N \\rightarrow \\infty} \\frac{N_\\circ(N)}{N_\\square(N)} \\rightarrow \\frac{A_\\circ}{A_\\square}$$\n",
    "so as we have much points generated, more precise will be our extimate of $pi$:\n",
    "$$ \\lim_{N \\rightarrow \\infty} 4\\frac{N_\\circ(N)}{N_\\square(N)} \\rightarrow 4\\frac{A_\\circ}{A_\\square} = \\pi$$\n",
    "\n",
    "Of course we have a raondom effect, but the convergence is guaranteed.\n",
    "\n",
    "\n",
    "Obs.: you could use only the first quadrant, beacuse we have a simetry in both axis, you could use $(x,y) \\in \\left [0, 1 \\right ]$.\n",
    "\n",
    "\n",
    "Obs.2: the difference between using closed or open intervals is not significant (in our scale).\n",
    "\n",
    "[Optimizing Jupyter Notebooks — A Comprehensive Guide, Muriz Serifovic in Towards Data Science](https://towardsdatascience.com/speed-up-jupyter-notebooks-20716cbe2025)"
   ]
  },
  {
   "cell_type": "code",
   "execution_count": 5,
   "metadata": {},
   "outputs": [],
   "source": [
    "def calulate_pi2(N: int) -> float:\n",
    "    N_in_circule = 0\n",
    "    N_points = 0\n",
    "    for x,y in np.random.uniform(0,1,(N,2)):\n",
    "        N_points += 1\n",
    "        N_in_circule += 1 if (x**2+y**2) <= 1 else 0\n",
    "        yield 4*N_in_circule/N_points"
   ]
  },
  {
   "cell_type": "code",
   "execution_count": 6,
   "metadata": {},
   "outputs": [
    {
     "name": "stderr",
     "output_type": "stream",
     "text": [
      "20000000it [00:11, 1760593.59it/s]\n",
      "20000000it [00:43, 460730.54it/s]\n"
     ]
    }
   ],
   "source": [
    "calulated_pi_list = [pi for pi in tqdm(calulate_pi(N))]\n",
    "calulated_pi_list2 = [pi for pi in tqdm(calulate_pi2(N))]"
   ]
  },
  {
   "cell_type": "code",
   "execution_count": 7,
   "metadata": {},
   "outputs": [],
   "source": [
    "def show_pi(tol: float, calulated_pis: List[float]):\n",
    "    i = 0\n",
    "    for pi in calulated_pis:\n",
    "        i += 1\n",
    "        err = abs(pi - math.pi)\n",
    "        if err < tol:\n",
    "            print('it = '+str(i)+', pi = '+str(pi)+' ('+str(err)+')')\n",
    "            return\n",
    "    print('Final it = '+str(i)+', pi = '+str(pi)+' ('+str(err)+')')"
   ]
  },
  {
   "cell_type": "code",
   "execution_count": 8,
   "metadata": {},
   "outputs": [
    {
     "name": "stdout",
     "output_type": "stream",
     "text": [
      "it = 1, pi = 4.0 (0.8584073464102069)\n",
      "it = 10, pi = 3.0418396189294032 (0.09975303466038987)\n",
      "it = 100, pi = 3.1315929035585537 (0.00999975003123943)\n",
      "it = 1000, pi = 3.140592653839794 (0.000999999749998981)\n",
      "it = 10000, pi = 3.1414926535900345 (9.99999997586265e-05)\n",
      "it = 100001, pi = 3.1416026534897203 (9.999899927226608e-06)\n",
      "it = 1000001, pi = 3.1415936535887745 (9.999989813991306e-07)\n",
      "it = 10000001, pi = 3.1415927535897814 (9.999998829002266e-08)\n",
      "Final it = 20000000, pi = 3.141592603589817 (4.999997615939833e-08)\n"
     ]
    }
   ],
   "source": [
    "for i in range(9):\n",
    "    show_pi(float(\"1e{}\".format(-i)),calulated_pi_list)"
   ]
  },
  {
   "cell_type": "code",
   "execution_count": 9,
   "metadata": {},
   "outputs": [
    {
     "name": "stdout",
     "output_type": "stream",
     "text": [
      "it = 1, pi = 4.0 (0.8584073464102069)\n",
      "it = 10, pi = 3.2 (0.05840734641020706)\n",
      "it = 14, pi = 3.142857142857143 (0.0012644892673496777)\n",
      "it = 181825, pi = 3.142582153169256 (0.0009894995794628159)\n",
      "it = 229240, pi = 3.1416855697086024 (9.291611880923867e-05)\n",
      "it = 229276, pi = 3.1415935379193636 (8.843295704608067e-07)\n",
      "it = 229276, pi = 3.1415935379193636 (8.843295704608067e-07)\n",
      "it = 230231, pi = 3.1415925744143927 (7.917540045809801e-08)\n",
      "it = 230245, pi = 3.141592651306217 (2.2835759949657586e-09)\n",
      "Final it = 20000000, pi = 3.1416774 (8.474641020672635e-05)\n",
      "Final it = 20000000, pi = 3.1416774 (8.474641020672635e-05)\n",
      "Final it = 20000000, pi = 3.1416774 (8.474641020672635e-05)\n",
      "Final it = 20000000, pi = 3.1416774 (8.474641020672635e-05)\n"
     ]
    }
   ],
   "source": [
    "for i in range(13):\n",
    "    show_pi(float(\"1e{}\".format(-i)),calulated_pi_list2)"
   ]
  },
  {
   "cell_type": "code",
   "execution_count": 17,
   "metadata": {},
   "outputs": [],
   "source": [
    "import cufflinks as cf\n",
    "import pandas as pd"
   ]
  },
  {
   "cell_type": "code",
   "execution_count": 18,
   "metadata": {},
   "outputs": [],
   "source": [
    "pi_array = math.pi*np.ones(len(calulated_pi_list2))"
   ]
  },
  {
   "cell_type": "code",
   "execution_count": 19,
   "metadata": {},
   "outputs": [],
   "source": [
    "First_its = 5000"
   ]
  },
  {
   "cell_type": "code",
   "execution_count": 20,
   "metadata": {},
   "outputs": [
    {
     "data": {
      "text/html": [
       "        <script type=\"text/javascript\">\n",
       "        window.PlotlyConfig = {MathJaxConfig: 'local'};\n",
       "        if (window.MathJax) {MathJax.Hub.Config({SVG: {font: \"STIX-Web\"}});}\n",
       "        if (typeof require !== 'undefined') {\n",
       "        require.undef(\"plotly\");\n",
       "        requirejs.config({\n",
       "            paths: {\n",
       "                'plotly': ['https://cdn.plot.ly/plotly-latest.min']\n",
       "            }\n",
       "        });\n",
       "        require(['plotly'], function(Plotly) {\n",
       "            window._Plotly = Plotly;\n",
       "        });\n",
       "        }\n",
       "        </script>\n",
       "        "
      ]
     },
     "metadata": {},
     "output_type": "display_data"
    }
   ],
   "source": [
    "cf.go_offline()\n",
    "pi_df = pd.DataFrame(np.array([calulated_pi_list,calulated_pi_list2,pi_array.tolist()]).T[:First_its],columns=['Leibniz','Monte Carlo','pi'])"
   ]
  },
  {
   "cell_type": "code",
   "execution_count": 23,
   "metadata": {},
   "outputs": [
    {
     "data": {
      "text/plain": [
       "<matplotlib.axes._subplots.AxesSubplot at 0x7f16308132d0>"
      ]
     },
     "execution_count": 23,
     "metadata": {},
     "output_type": "execute_result"
    },
    {
     "data": {
      "image/png": "[encoded data removed]",
      "text/plain": [
       "<Figure size 432x288 with 1 Axes>"
      ]
     },
     "metadata": {
      "needs_background": "light"
     },
     "output_type": "display_data"
    }
   ],
   "source": [
    "pi_df.plot(grid=True)"
   ]
  },
  {
   "cell_type": "code",
   "execution_count": 24,
   "metadata": {},
   "outputs": [
    {
     "data": {
      "text/html": [
       "<div>\n",
       "<style scoped>\n",
       "    .dataframe tbody tr th:only-of-type {\n",
       "        vertical-align: middle;\n",
       "    }\n",
       "\n",
       "    .dataframe tbody tr th {\n",
       "        vertical-align: top;\n",
       "    }\n",
       "\n",
       "    .dataframe thead th {\n",
       "        text-align: right;\n",
       "    }\n",
       "</style>\n",
       "<table border=\"1\" class=\"dataframe\">\n",
       "  <thead>\n",
       "    <tr style=\"text-align: right;\">\n",
       "      <th></th>\n",
       "      <th>Leibniz</th>\n",
       "      <th>Monte Carlo</th>\n",
       "      <th>pi</th>\n",
       "    </tr>\n",
       "  </thead>\n",
       "  <tbody>\n",
       "    <tr>\n",
       "      <th>count</th>\n",
       "      <td>5000.000000</td>\n",
       "      <td>5000.000000</td>\n",
       "      <td>5000.000000</td>\n",
       "    </tr>\n",
       "    <tr>\n",
       "      <th>mean</th>\n",
       "      <td>3.141707</td>\n",
       "      <td>3.214298</td>\n",
       "      <td>3.141593</td>\n",
       "    </tr>\n",
       "    <tr>\n",
       "      <th>std</th>\n",
       "      <td>0.016422</td>\n",
       "      <td>0.038335</td>\n",
       "      <td>0.000000</td>\n",
       "    </tr>\n",
       "    <tr>\n",
       "      <th>min</th>\n",
       "      <td>2.666667</td>\n",
       "      <td>2.909091</td>\n",
       "      <td>3.141593</td>\n",
       "    </tr>\n",
       "    <tr>\n",
       "      <th>25%</th>\n",
       "      <td>3.141193</td>\n",
       "      <td>3.192332</td>\n",
       "      <td>3.141593</td>\n",
       "    </tr>\n",
       "    <tr>\n",
       "      <th>50%</th>\n",
       "      <td>3.141593</td>\n",
       "      <td>3.211314</td>\n",
       "      <td>3.141593</td>\n",
       "    </tr>\n",
       "    <tr>\n",
       "      <th>75%</th>\n",
       "      <td>3.141993</td>\n",
       "      <td>3.226227</td>\n",
       "      <td>3.141593</td>\n",
       "    </tr>\n",
       "    <tr>\n",
       "      <th>max</th>\n",
       "      <td>4.000000</td>\n",
       "      <td>4.000000</td>\n",
       "      <td>3.141593</td>\n",
       "    </tr>\n",
       "  </tbody>\n",
       "</table>\n",
       "</div>"
      ],
      "text/plain": [
       "           Leibniz  Monte Carlo           pi\n",
       "count  5000.000000  5000.000000  5000.000000\n",
       "mean      3.141707     3.214298     3.141593\n",
       "std       0.016422     0.038335     0.000000\n",
       "min       2.666667     2.909091     3.141593\n",
       "25%       3.141193     3.192332     3.141593\n",
       "50%       3.141593     3.211314     3.141593\n",
       "75%       3.141993     3.226227     3.141593\n",
       "max       4.000000     4.000000     3.141593"
      ]
     },
     "execution_count": 24,
     "metadata": {},
     "output_type": "execute_result"
    }
   ],
   "source": [
    "pi_df.describe()"
   ]
  },
  {
   "cell_type": "code",
   "execution_count": null,
   "metadata": {},
   "outputs": [],
   "source": []
  },
  {
   "cell_type": "code",
   "execution_count": null,
   "metadata": {},
   "outputs": [],
   "source": []
  }
 ],
 "metadata": {
  "kernelspec": {
   "display_name": "Python 3",
   "language": "python",
   "name": "python3"
  },
  "language_info": {
   "codemirror_mode": {
    "name": "ipython",
    "version": 3
   },
   "file_extension": ".py",
   "mimetype": "text/x-python",
   "name": "python",
   "nbconvert_exporter": "python",
   "pygments_lexer": "ipython3",
   "version": "3.7.7"
  }
 },
 "nbformat": 4,
 "nbformat_minor": 4
}
