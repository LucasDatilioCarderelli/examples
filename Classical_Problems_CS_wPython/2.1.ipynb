{
 "cells": [
  {
   "cell_type": "code",
   "execution_count": 14,
   "metadata": {},
   "outputs": [],
   "source": [
    "from enum import IntEnum\n",
    "from typing import Tuple, List\n",
    "from random import choice"
   ]
  },
  {
   "cell_type": "code",
   "execution_count": 29,
   "metadata": {},
   "outputs": [],
   "source": [
    "nuc_tuple = ('A','C','G','T')\n",
    "Nucleotide = IntEnum('Nucleotide', nuc_tuple)\n",
    "A = Nucleotide.A\n",
    "C = Nucleotide.C\n",
    "G = Nucleotide.G\n",
    "T = Nucleotide.T\n",
    "Nuc_list = [A,C,G,T]\n",
    "Codon = Tuple[Nucleotide, Nucleotide, Nucleotide]\n",
    "Gene = List[Codon]"
   ]
  },
  {
   "cell_type": "code",
   "execution_count": 16,
   "metadata": {},
   "outputs": [
    {
     "data": {
      "text/plain": [
       "typing.List[typing.Tuple[__main__.Nucleotide, __main__.Nucleotide, __main__.Nucleotide]]"
      ]
     },
     "execution_count": 16,
     "metadata": {},
     "output_type": "execute_result"
    }
   ],
   "source": [
    "Gene"
   ]
  },
  {
   "cell_type": "code",
   "execution_count": 21,
   "metadata": {},
   "outputs": [
    {
     "name": "stdout",
     "output_type": "stream",
     "text": [
      "Gene string (99): CCCTCGAGGTGCAAGGCTAGGTACAACTTTTACTGCTACGGGGTCCCCACCCCCACGAACCGCCACTCGTATCCGCTCTAGATCCTCAGACTGAGTCGG\n"
     ]
    }
   ],
   "source": [
    "N = 100\n",
    "N = 3*round(N/3)\n",
    "gene_str = ''\n",
    "for _ in range(N):\n",
    "    gene_str += choice(nuc_tuple)\n",
    "print('Gene string ({}): {}'.format(N,gene_str))"
   ]
  },
  {
   "cell_type": "code",
   "execution_count": 22,
   "metadata": {},
   "outputs": [],
   "source": [
    "def string2gene(s: str) -> Gene:\n",
    "    gene = []\n",
    "    for i in range(0, len(s), 3):\n",
    "        if (i+2) >= len(s):\n",
    "            return gene\n",
    "        codon = (Nucleotide[s[i]], Nucleotide[s[i+1]], Nucleotide[s[i+2]])\n",
    "        gene.append(codon)\n",
    "    return gene"
   ]
  },
  {
   "cell_type": "code",
   "execution_count": 57,
   "metadata": {},
   "outputs": [],
   "source": [
    "gene = sorted(string2gene(gene_str))"
   ]
  },
  {
   "cell_type": "code",
   "execution_count": 189,
   "metadata": {},
   "outputs": [],
   "source": [
    "def linear_contains(gene: Gene, key_codon: Codon) -> bool:\n",
    "    for codon in gene:\n",
    "        if codon == key_codon:\n",
    "            return True\n",
    "    return False"
   ]
  },
  {
   "cell_type": "code",
   "execution_count": 205,
   "metadata": {},
   "outputs": [
    {
     "name": "stdout",
     "output_type": "stream",
     "text": [
      "(<Nucleotide.A: 1>, <Nucleotide.A: 1>, <Nucleotide.G: 3>)\n",
      "(<Nucleotide.C: 2>, <Nucleotide.T: 4>, <Nucleotide.C: 2>)\n",
      "(<Nucleotide.A: 1>, <Nucleotide.G: 3>, <Nucleotide.G: 3>)\n",
      "(<Nucleotide.T: 4>, <Nucleotide.A: 1>, <Nucleotide.T: 4>)\n"
     ]
    }
   ],
   "source": [
    "sample_codons = []\n",
    "for _ in range(10):\n",
    "    sample_codons.append(tuple(choice(Nuc_list) for _ in range(3)))\n",
    "\n",
    "for codon in sample_codons:\n",
    "    if linear_contains(gene,codon):\n",
    "        print(codon)"
   ]
  },
  {
   "cell_type": "code",
   "execution_count": 153,
   "metadata": {},
   "outputs": [],
   "source": [
    "def binary_contains(gene: Gene, key_codon: Codon) -> bool:\n",
    "    low = 0\n",
    "    high = len(gene)-1\n",
    "    while low <= high:\n",
    "        mid = (low+high) // 2\n",
    "        if gene[mid] < key_codon:\n",
    "            low = mid+1\n",
    "        elif gene[mid] > key_codon:\n",
    "            high = mid-1\n",
    "        else:\n",
    "            return True\n",
    "    return False"
   ]
  },
  {
   "cell_type": "code",
   "execution_count": 207,
   "metadata": {},
   "outputs": [
    {
     "name": "stdout",
     "output_type": "stream",
     "text": [
      "(<Nucleotide.A: 1>, <Nucleotide.A: 1>, <Nucleotide.G: 3>)\n",
      "(<Nucleotide.C: 2>, <Nucleotide.T: 4>, <Nucleotide.C: 2>)\n",
      "(<Nucleotide.A: 1>, <Nucleotide.G: 3>, <Nucleotide.G: 3>)\n",
      "(<Nucleotide.T: 4>, <Nucleotide.A: 1>, <Nucleotide.T: 4>)\n"
     ]
    }
   ],
   "source": [
    "for codon in sample_codons:\n",
    "    if binary_contains(gene,codon):\n",
    "        print(codon)"
   ]
  },
  {
   "cell_type": "code",
   "execution_count": 136,
   "metadata": {},
   "outputs": [
    {
     "data": {
      "text/plain": [
       "[(<Nucleotide.A: 1>, <Nucleotide.A: 1>, <Nucleotide.C: 2>),\n",
       " (<Nucleotide.A: 1>, <Nucleotide.A: 1>, <Nucleotide.C: 2>),\n",
       " (<Nucleotide.A: 1>, <Nucleotide.A: 1>, <Nucleotide.G: 3>),\n",
       " (<Nucleotide.A: 1>, <Nucleotide.C: 2>, <Nucleotide.C: 2>),\n",
       " (<Nucleotide.A: 1>, <Nucleotide.C: 2>, <Nucleotide.G: 3>),\n",
       " (<Nucleotide.A: 1>, <Nucleotide.G: 3>, <Nucleotide.A: 1>),\n",
       " (<Nucleotide.A: 1>, <Nucleotide.G: 3>, <Nucleotide.G: 3>),\n",
       " (<Nucleotide.A: 1>, <Nucleotide.G: 3>, <Nucleotide.G: 3>),\n",
       " (<Nucleotide.A: 1>, <Nucleotide.G: 3>, <Nucleotide.T: 4>),\n",
       " (<Nucleotide.A: 1>, <Nucleotide.T: 4>, <Nucleotide.C: 2>),\n",
       " (<Nucleotide.C: 2>, <Nucleotide.A: 1>, <Nucleotide.C: 2>),\n",
       " (<Nucleotide.C: 2>, <Nucleotide.C: 2>, <Nucleotide.C: 2>),\n",
       " (<Nucleotide.C: 2>, <Nucleotide.C: 2>, <Nucleotide.C: 2>),\n",
       " (<Nucleotide.C: 2>, <Nucleotide.C: 2>, <Nucleotide.C: 2>),\n",
       " (<Nucleotide.C: 2>, <Nucleotide.C: 2>, <Nucleotide.G: 3>),\n",
       " (<Nucleotide.C: 2>, <Nucleotide.G: 3>, <Nucleotide.C: 2>),\n",
       " (<Nucleotide.C: 2>, <Nucleotide.G: 3>, <Nucleotide.G: 3>),\n",
       " (<Nucleotide.C: 2>, <Nucleotide.T: 4>, <Nucleotide.C: 2>),\n",
       " (<Nucleotide.C: 2>, <Nucleotide.T: 4>, <Nucleotide.C: 2>),\n",
       " (<Nucleotide.C: 2>, <Nucleotide.T: 4>, <Nucleotide.G: 3>),\n",
       " (<Nucleotide.G: 3>, <Nucleotide.C: 2>, <Nucleotide.T: 4>),\n",
       " (<Nucleotide.G: 3>, <Nucleotide.G: 3>, <Nucleotide.G: 3>),\n",
       " (<Nucleotide.G: 3>, <Nucleotide.T: 4>, <Nucleotide.C: 2>),\n",
       " (<Nucleotide.T: 4>, <Nucleotide.A: 1>, <Nucleotide.C: 2>),\n",
       " (<Nucleotide.T: 4>, <Nucleotide.A: 1>, <Nucleotide.C: 2>),\n",
       " (<Nucleotide.T: 4>, <Nucleotide.A: 1>, <Nucleotide.C: 2>),\n",
       " (<Nucleotide.T: 4>, <Nucleotide.A: 1>, <Nucleotide.G: 3>),\n",
       " (<Nucleotide.T: 4>, <Nucleotide.A: 1>, <Nucleotide.T: 4>),\n",
       " (<Nucleotide.T: 4>, <Nucleotide.C: 2>, <Nucleotide.G: 3>),\n",
       " (<Nucleotide.T: 4>, <Nucleotide.C: 2>, <Nucleotide.G: 3>),\n",
       " (<Nucleotide.T: 4>, <Nucleotide.G: 3>, <Nucleotide.C: 2>),\n",
       " (<Nucleotide.T: 4>, <Nucleotide.G: 3>, <Nucleotide.C: 2>),\n",
       " (<Nucleotide.T: 4>, <Nucleotide.T: 4>, <Nucleotide.T: 4>)]"
      ]
     },
     "execution_count": 136,
     "metadata": {},
     "output_type": "execute_result"
    }
   ],
   "source": [
    "gene"
   ]
  },
  {
   "cell_type": "code",
   "execution_count": 293,
   "metadata": {},
   "outputs": [
    {
     "name": "stdout",
     "output_type": "stream",
     "text": [
      "Gene string (99,999): GGCTGCAACGTTGCTATTGGCCGTATCCCTAGTAGTTGATCCCGACTCACTTTCTTAAATCGAGATCTGAGCTAGGTCGGCCTGCCATCAGAAATGAGCG...\n"
     ]
    }
   ],
   "source": [
    "N = 100000\n",
    "N = 3*round(N/3)\n",
    "gene_str = ''\n",
    "for _ in range(N):\n",
    "    gene_str += choice(nuc_tuple)\n",
    "print('Gene string ({:,}): {}...'.format(N,gene_str[:100]))\n",
    "gene = string2gene(gene_str)\n",
    "gene = sorted(gene)\n",
    "sample_codons = []\n",
    "for _ in range(10000):\n",
    "    sample_codons.append(tuple(choice(Nuc_list) for _ in range(3)))"
   ]
  },
  {
   "cell_type": "code",
   "execution_count": 294,
   "metadata": {
    "scrolled": true
   },
   "outputs": [
    {
     "name": "stdout",
     "output_type": "stream",
     "text": [
      "Total founds: 10000\n",
      "CPU times: user 12.3 s, sys: 0 ns, total: 12.3 s\n",
      "Wall time: 12.3 s\n"
     ]
    }
   ],
   "source": [
    "%%time\n",
    "\n",
    "s = 0\n",
    "for codon in sample_codons:\n",
    "    if linear_contains(gene,codon):\n",
    "        s+=1\n",
    "print('Total founds: '+str(s))"
   ]
  },
  {
   "cell_type": "code",
   "execution_count": 295,
   "metadata": {},
   "outputs": [
    {
     "name": "stdout",
     "output_type": "stream",
     "text": [
      "Total founds: 10000\n",
      "CPU times: user 31.1 ms, sys: 0 ns, total: 31.1 ms\n",
      "Wall time: 30.9 ms\n"
     ]
    }
   ],
   "source": [
    "%%time\n",
    "\n",
    "s=0\n",
    "for codon in sample_codons:\n",
    "    if binary_contains(gene,codon):\n",
    "        s+=1\n",
    "print('Total founds: '+str(s))"
   ]
  },
  {
   "cell_type": "code",
   "execution_count": 296,
   "metadata": {},
   "outputs": [
    {
     "data": {
      "text/plain": [
       "64"
      ]
     },
     "execution_count": 296,
     "metadata": {},
     "output_type": "execute_result"
    }
   ],
   "source": [
    "len(list(set(gene)))"
   ]
  },
  {
   "cell_type": "markdown",
   "metadata": {},
   "source": [
    "- Obs.1: a random generating the gene is not the right way, but useful for test the code.\n",
    "- Obs.2: we must consider the first match condon. The random generating for condon samples is not a conceptually right.\n",
    "- Obs.3: l if you let the gene, the linear search will be done very quickly (much mor faster, less than 100 ms).\n"
   ]
  },
  {
   "cell_type": "code",
   "execution_count": null,
   "metadata": {},
   "outputs": [],
   "source": []
  }
 ],
 "metadata": {
  "kernelspec": {
   "display_name": "Python 3",
   "language": "python",
   "name": "python3"
  },
  "language_info": {
   "codemirror_mode": {
    "name": "ipython",
    "version": 3
   },
   "file_extension": ".py",
   "mimetype": "text/x-python",
   "name": "python",
   "nbconvert_exporter": "python",
   "pygments_lexer": "ipython3",
   "version": "3.7.5"
  }
 },
 "nbformat": 4,
 "nbformat_minor": 2
}
